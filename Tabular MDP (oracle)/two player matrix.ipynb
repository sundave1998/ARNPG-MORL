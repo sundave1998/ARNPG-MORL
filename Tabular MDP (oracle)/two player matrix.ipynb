{
 "cells": [
  {
   "cell_type": "code",
   "execution_count": 1,
   "id": "95924a1f-0c73-473b-acf0-e245c267441a",
   "metadata": {},
   "outputs": [],
   "source": [
    "import numpy as np\n",
    "import matplotlib.pyplot as plt\n",
    "from tqdm import tqdm\n",
    "import copy"
   ]
  },
  {
   "cell_type": "code",
   "execution_count": 3,
   "id": "af718b70-7459-4c4f-b446-4aff45fcd83b",
   "metadata": {},
   "outputs": [
    {
     "name": "stdout",
     "output_type": "stream",
     "text": [
      "[[0.03522304 0.76491502]\n",
      " [0.85096166 0.97674478]]\n",
      "[array([0.94116587, 0.05883413]), array([0.25868143, 0.74131857])]\n"
     ]
    }
   ],
   "source": [
    "n=2\n",
    "# action_spaces = np.array([3,4,5])\n",
    "# action_spaces = np.array([3,3])\n",
    "action_spaces = np.array([2,2])\n",
    "\n",
    "reward = np.zeros(action_spaces)\n",
    "reward = np.random.uniform(0,1,size=action_spaces)\n",
    "# reward = np.array([[1,1],[0,1]])\n",
    "# rewards = [reward]\n",
    "# reward[0,1] = reward[1,2] = reward[2,0] = 1\n",
    "# reward[1,0] = reward[2,1] = reward[0,2] = -1\n",
    "\n",
    "\n",
    "print(reward)\n",
    "# Start state distribution\n",
    "# rho = np.ones(s) / s\n",
    "\n",
    "# initial_pi = np.ones((n,a))/a\n",
    "# initial_pi = ([np.array([1/i for x in range(int(i))]) for i in (action_spaces)])\n",
    "initial_pi = ([np.random.uniform(0,1,size=int(i)) for i in (action_spaces)])\n",
    "for pi in initial_pi:\n",
    "    pi/=np.sum(pi)\n",
    "print(initial_pi)\n",
    "\n"
   ]
  },
  {
   "cell_type": "code",
   "execution_count": 12,
   "id": "5780d384-2813-4e4a-a182-2675f52ae13d",
   "metadata": {},
   "outputs": [],
   "source": [
    "random_pi = np.random.uniform(0,1,size=action_spaces)\n",
    "random_pi /= np.sum(random_pi)"
   ]
  },
  {
   "cell_type": "code",
   "execution_count": 19,
   "id": "354d9722-526a-4455-9c5d-e81d2831a123",
   "metadata": {},
   "outputs": [
    {
     "name": "stdout",
     "output_type": "stream",
     "text": [
      "[[0.22375057 0.12316262]\n",
      " [0.5631607  0.08992611]]\n",
      "[0.78691127 0.21308873] [0.34691319 0.65308681]\n",
      "[[0.2729899  0.51392137]\n",
      " [0.07392329 0.13916544]]\n",
      "0.5180203580016667 0.6455148130969588 1.1635351710986255\n",
      "1.1329102934679014 1.1635351710986255\n"
     ]
    }
   ],
   "source": [
    "print(random_pi)\n",
    "\n",
    "pi1 = np.sum(random_pi, axis=0)\n",
    "pi2 = np.sum(random_pi, axis=1)\n",
    "\n",
    "print(pi1, pi2)\n",
    "\n",
    "stack_pi = np.zeros(action_spaces)\n",
    "for i in range(action_spaces[0]):\n",
    "    for j in range(action_spaces[1]):\n",
    "        stack_pi[i,j]+= pi1[i]*pi2[j]\n",
    "print(stack_pi)\n",
    "kl1 = 0\n",
    "kl2 = 0\n",
    "\n",
    "for prob in pi1:\n",
    "    kl1+= -prob*np.log(prob)\n",
    "    \n",
    "for prob in pi2:\n",
    "    kl2+= -prob*np.log(prob)\n",
    "    \n",
    "print(kl1, kl2, kl1 + kl2)\n",
    "\n",
    "    \n",
    "total_kl = 0\n",
    "stack_kl = 0\n",
    "for i in range(action_spaces[0]):\n",
    "    for j in range(action_spaces[1]):\n",
    "        total_kl+= -random_pi[i,j]*np.log(random_pi[i,j])\n",
    "        stack_kl+= -stack_pi[i,j]*np.log(stack_pi[i,j])\n",
    "        \n",
    "print(total_kl, stack_kl)\n",
    "    "
   ]
  },
  {
   "cell_type": "code",
   "execution_count": null,
   "id": "7a11301c-205c-420c-b116-4b8327fd0cd1",
   "metadata": {},
   "outputs": [],
   "source": []
  }
 ],
 "metadata": {
  "kernelspec": {
   "display_name": "Python 3 (ipykernel)",
   "language": "python",
   "name": "python3"
  },
  "language_info": {
   "codemirror_mode": {
    "name": "ipython",
    "version": 3
   },
   "file_extension": ".py",
   "mimetype": "text/x-python",
   "name": "python",
   "nbconvert_exporter": "python",
   "pygments_lexer": "ipython3",
   "version": "3.9.13"
  }
 },
 "nbformat": 4,
 "nbformat_minor": 5
}
