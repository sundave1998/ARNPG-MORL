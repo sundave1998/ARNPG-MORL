{
 "cells": [
  {
   "cell_type": "code",
   "execution_count": 1,
   "metadata": {},
   "outputs": [],
   "source": [
    "import numpy as np\n",
    "import matplotlib.pyplot as plt\n",
    "\n",
    "from docplex.mp.model import Model\n",
    "from NPG_CMDP import CMDP_NPG\n",
    "from ARNPG_CMDP import CMDP_ARNPG\n",
    "import cvxpy as cp\n",
    "from tqdm import tqdm\n",
    "\n",
    "%load_ext autoreload\n",
    "%autoreload 2"
   ]
  },
  {
   "cell_type": "code",
   "execution_count": 2,
   "metadata": {},
   "outputs": [
    {
     "name": "stdout",
     "output_type": "stream",
     "text": [
      "2.774072238206565\n"
     ]
    }
   ],
   "source": [
    "np.random.seed(10)\n",
    "# Problem Setup\n",
    "gamma = 0.8\n",
    "s, a = 20, 10\n",
    "\n",
    "raw_transition = np.random.uniform(0, 1, size=(s * a, s))\n",
    "prob_transition = raw_transition / raw_transition.sum(axis=1, keepdims=1)\n",
    "# Random positive rewards\n",
    "reward = np.random.uniform(0, 1, size=(s * a))\n",
    "# Random positive utilities\n",
    "utility = np.random.uniform(0, 1, size=(s * a))\n",
    "# Start state distribution\n",
    "rho = np.ones(s) / s\n",
    "\n",
    "# calculate the optimal reward via QP\n",
    "model = Model()\n",
    "# create continuous variables\n",
    "idx = [(i, j) for i in range(s) for j in range(a)]\n",
    "x = model.continuous_var_dict(idx)\n",
    "\n",
    "for i in range(s):\n",
    "    for j in range(a):\n",
    "        model.add_constraint(x[i, j] >= 0)\n",
    "\n",
    "for s_next in range(s):\n",
    "    model.add_constraint(\n",
    "        gamma * model.sum(x[i, j] * prob_transition[i * a + j][s_next] for i in range(s) for j in range(a))\n",
    "        + (1 - gamma) * rho[s_next] == model.sum(x[s_next, a_next] for a_next in range(a)))\n",
    "\n",
    "model.maximize(model.sum(x[i, j] * reward[i * a + j] / (1 - gamma) for i in range(s) for j in range(a)) *\n",
    "               model.sum(x[i, j] * utility[i * a + j] / (1 - gamma) for i in range(s) for j in range(a)))\n",
    "# search for a globally optimal solution to a nonconvex model\n",
    "model.parameters.optimalitytarget = 3\n",
    "model.solve()\n",
    "print(np.log(model.objective_value))\n",
    "\n",
    "\n"
   ]
  },
  {
   "cell_type": "code",
   "execution_count": 3,
   "metadata": {},
   "outputs": [
    {
     "data": {
      "text/plain": [
       "[<matplotlib.lines.Line2D at 0x1494071b5b0>]"
      ]
     },
     "execution_count": 3,
     "metadata": {},
     "output_type": "execute_result"
    },
    {
     "data": {
      "image/png": "[encoded data removed]",
      "text/plain": [
       "<Figure size 432x288 with 1 Axes>"
      ]
     },
     "metadata": {
      "needs_background": "light"
     },
     "output_type": "display_data"
    }
   ],
   "source": [
    "from MDP import NPG_MDP, MO_MDP\n",
    "N = 300\n",
    "\n",
    "theta0 = np.random.uniform(0, 1, size=s * a)\n",
    "temp = NPG_MDP(reward, utility, s, a, rho, gamma, prob_transition, model=model)\n",
    "\n",
    "for i in range(N):\n",
    "    temp.NPG_step(verbose = False)\n",
    "\n",
    "# plt.plot(temp.V1)\n",
    "# plt.plot(temp.V2)\n",
    "plt.plot(temp.gap)\n"
   ]
  },
  {
   "cell_type": "code",
   "execution_count": null,
   "metadata": {},
   "outputs": [],
   "source": []
  },
  {
   "cell_type": "code",
   "execution_count": 4,
   "metadata": {},
   "outputs": [],
   "source": [
    "reward_num = 5\n",
    "\n",
    "rewards = []\n",
    "for i in range(reward_num):\n",
    "    rewards.append(np.random.uniform(0, 1, size=(s * a)))\n",
    "    "
   ]
  },
  {
   "cell_type": "code",
   "execution_count": 5,
   "metadata": {},
   "outputs": [],
   "source": [
    "temp = MO_MDP(rewards, s, a, rho, gamma, prob_transition, model=model)"
   ]
  },
  {
   "cell_type": "code",
   "execution_count": 6,
   "metadata": {},
   "outputs": [
    {
     "name": "stderr",
     "output_type": "stream",
     "text": [
      "100%|██████████| 300/300 [00:05<00:00, 58.61it/s]\n"
     ]
    }
   ],
   "source": [
    "for i in tqdm(range(N)):\n",
    "    temp.Centralized_log_NPG_step(verbose = False)"
   ]
  },
  {
   "cell_type": "code",
   "execution_count": 7,
   "metadata": {},
   "outputs": [
    {
     "name": "stdout",
     "output_type": "stream",
     "text": [
      "6.163897555286945\n"
     ]
    },
    {
     "data": {
      "image/png": "[encoded data removed]",
      "text/plain": [
       "<Figure size 432x288 with 1 Axes>"
      ]
     },
     "metadata": {
      "needs_background": "light"
     },
     "output_type": "display_data"
    }
   ],
   "source": [
    "plt.plot(temp.Q_record)\n",
    "plt.plot(temp.V_record[0])\n",
    "plt.plot(temp.V_record[1])\n",
    "plt.plot(temp.V_record[2])\n",
    "plt.plot(temp.V_record[3])\n",
    "plt.plot(temp.V_record[4])\n",
    "print(temp.Q_record[-1])"
   ]
  },
  {
   "cell_type": "code",
   "execution_count": null,
   "metadata": {},
   "outputs": [],
   "source": []
  },
  {
   "cell_type": "code",
   "execution_count": 9,
   "metadata": {},
   "outputs": [
    {
     "name": "stdout",
     "output_type": "stream",
     "text": [
      "[[-2.  1.  0.  0.  1.]\n",
      " [ 1. -2.  1.  0.  0.]\n",
      " [ 0.  1. -2.  1.  0.]\n",
      " [ 0.  0.  1. -2.  1.]\n",
      " [ 1.  0.  0.  1. -2.]]\n",
      "[[0.8 0.1 0.  0.  0.1]\n",
      " [0.1 0.8 0.1 0.  0. ]\n",
      " [0.  0.1 0.8 0.1 0. ]\n",
      " [0.  0.  0.1 0.8 0.1]\n",
      " [0.1 0.  0.  0.1 0.8]]\n"
     ]
    }
   ],
   "source": [
    "agent_num = 5\n",
    "Laplacian = np.zeros((agent_num, agent_num))\n",
    "\n",
    "for i in range(agent_num):\n",
    "    Laplacian[i,i] = -2\n",
    "    Laplacian[i,(i+1)%agent_num] = 1\n",
    "    Laplacian[i,(i-1)%agent_num] = 1\n",
    "print(Laplacian)\n",
    "\n",
    "W = np.zeros((agent_num, agent_num))\n",
    "eta = 0.1\n",
    "for i in range(agent_num):\n",
    "    W[i,i] = 1-2*eta\n",
    "    W[i,(i+1)%agent_num] = eta\n",
    "    W[i,(i-1)%agent_num] = eta\n",
    "print(W)"
   ]
  },
  {
   "cell_type": "code",
   "execution_count": 50,
   "metadata": {},
   "outputs": [],
   "source": [
    "agent_list = []\n",
    "for i in range(agent_num):\n",
    "    agent_list.append(MO_MDP(rewards, s, a, rho, gamma, prob_transition, model=model))"
   ]
  },
  {
   "cell_type": "code",
   "execution_count": 51,
   "metadata": {},
   "outputs": [],
   "source": [
    "import copy\n",
    "# for k in range(5):\n",
    "old_grad = np.zeros((agent_num, reward_num))\n",
    "grad = np.zeros((agent_num, reward_num))\n",
    "y = np.zeros((agent_num, reward_num))\n",
    "all_theta = np.zeros((agent_num, s*a))"
   ]
  },
  {
   "cell_type": "code",
   "execution_count": 52,
   "metadata": {},
   "outputs": [
    {
     "name": "stderr",
     "output_type": "stream",
     "text": [
      "100%|██████████| 1000/1000 [01:31<00:00, 10.98it/s]\n"
     ]
    }
   ],
   "source": [
    "N = 1000\n",
    "for k in tqdm(range(N)):\n",
    "    \n",
    "    for i in range(agent_num):\n",
    "        grad[i] = agent_list[i].calculate_G(num=i,verbose = False)\n",
    "        all_theta[i] = copy.deepcopy(agent_list[i].theta)\n",
    "\n",
    "    y = W@y+grad-old_grad\n",
    "#     y = W@grad\n",
    "#     y = copy.deepcopy(grad)\n",
    "#     y = y + eta*Laplacian@grad\n",
    "    old_grad = copy.deepcopy(grad)\n",
    "    all_theta = W@all_theta\n",
    "        \n",
    "    for i in range(agent_num):\n",
    "        agent_list[i].theta=all_theta[i]\n",
    "        agent_list[i].NPG_step_given_G(y[i], verbose = False)\n",
    "        "
   ]
  },
  {
   "cell_type": "code",
   "execution_count": 53,
   "metadata": {},
   "outputs": [
    {
     "data": {
      "text/plain": [
       "[<matplotlib.lines.Line2D at 0x14940e98850>]"
      ]
     },
     "execution_count": 53,
     "metadata": {},
     "output_type": "execute_result"
    },
    {
     "data": {
      "image/png": "[encoded data removed]",
      "text/plain": [
       "<Figure size 432x288 with 1 Axes>"
      ]
     },
     "metadata": {
      "needs_background": "light"
     },
     "output_type": "display_data"
    }
   ],
   "source": [
    "plt.plot(agent_list[0].Q_record)\n",
    "plt.plot(agent_list[0].V_record[0])\n",
    "plt.plot(agent_list[0].V_record[1])\n",
    "plt.plot(agent_list[0].V_record[2])\n",
    "plt.plot(agent_list[0].V_record[3])\n",
    "plt.plot(agent_list[0].V_record[4])"
   ]
  },
  {
   "cell_type": "code",
   "execution_count": null,
   "metadata": {},
   "outputs": [],
   "source": []
  },
  {
   "cell_type": "code",
   "execution_count": 54,
   "metadata": {},
   "outputs": [
    {
     "name": "stdout",
     "output_type": "stream",
     "text": [
      "6.162399577542852\n",
      "6.16406402321258\n",
      "6.16374243349801\n",
      "6.164126341736141\n",
      "6.161605038434292\n"
     ]
    },
    {
     "data": {
      "text/plain": [
       "[<matplotlib.lines.Line2D at 0x149420120d0>]"
      ]
     },
     "execution_count": 54,
     "metadata": {},
     "output_type": "execute_result"
    },
    {
     "data": {
      "image/png": "[encoded data removed]",
      "text/plain": [
       "<Figure size 432x288 with 1 Axes>"
      ]
     },
     "metadata": {
      "needs_background": "light"
     },
     "output_type": "display_data"
    }
   ],
   "source": [
    "for i in range(agent_num):\n",
    "    plt.plot(agent_list[i].Q_record)\n",
    "    print(agent_list[i].Q_record[-1])\n",
    "plt.plot(temp.Q_record)"
   ]
  },
  {
   "cell_type": "code",
   "execution_count": 27,
   "metadata": {},
   "outputs": [
    {
     "name": "stdout",
     "output_type": "stream",
     "text": [
      "6.162579952388417\n",
      "6.163971986241117\n",
      "6.163296981122539\n",
      "6.164269666220627\n",
      "6.162755078061993\n"
     ]
    },
    {
     "data": {
      "text/plain": [
       "[<matplotlib.lines.Line2D at 0x14940a21dc0>]"
      ]
     },
     "execution_count": 27,
     "metadata": {},
     "output_type": "execute_result"
    },
    {
     "data": {
      "image/png": "[encoded data removed]",
      "text/plain": [
       "<Figure size 432x288 with 1 Axes>"
      ]
     },
     "metadata": {
      "needs_background": "light"
     },
     "output_type": "display_data"
    }
   ],
   "source": []
  },
  {
   "cell_type": "code",
   "execution_count": 20,
   "metadata": {},
   "outputs": [
    {
     "name": "stdout",
     "output_type": "stream",
     "text": [
      "5.9707110884785735\n",
      "6.073172741101774\n",
      "6.0881846575633585\n",
      "6.130336920183672\n",
      "6.054309976810552\n"
     ]
    },
    {
     "data": {
      "text/plain": [
       "[<matplotlib.lines.Line2D at 0x1494084d820>]"
      ]
     },
     "execution_count": 20,
     "metadata": {},
     "output_type": "execute_result"
    },
    {
     "data": {
      "image/png": "[encoded data removed]",
      "text/plain": [
       "<Figure size 432x288 with 1 Axes>"
      ]
     },
     "metadata": {
      "needs_background": "light"
     },
     "output_type": "display_data"
    }
   ],
   "source": []
  },
  {
   "cell_type": "code",
   "execution_count": null,
   "metadata": {},
   "outputs": [],
   "source": []
  },
  {
   "cell_type": "code",
   "execution_count": 86,
   "metadata": {},
   "outputs": [
    {
     "name": "stdout",
     "output_type": "stream",
     "text": [
      "[[-58.93044799  31.33908152   0.           0.          33.17419591]\n",
      " [ 29.46522399 -62.67816303  32.53035047   0.           0.        ]\n",
      " [  0.          31.33908152 -65.06070095  32.13678195   0.        ]\n",
      " [  0.           0.          32.53035047 -64.27356389  33.17419591]\n",
      " [ 29.46522399   0.           0.          32.13678195 -66.34839182]]\n"
     ]
    }
   ],
   "source": [
    "print(y)"
   ]
  },
  {
   "cell_type": "code",
   "execution_count": 17,
   "metadata": {},
   "outputs": [],
   "source": [
    "# # calculate the optimal reward via QP\n",
    "# model = Model()\n",
    "# # create continuous variables\n",
    "# idx = [(i, j) for i in range(s) for j in range(a)]\n",
    "# x = model.continuous_var_dict(idx)\n",
    "\n",
    "# for i in range(s):\n",
    "#     for j in range(a):\n",
    "#         model.add_constraint(x[i, j] >= 0)\n",
    "\n",
    "# for s_next in range(s):\n",
    "#     model.add_constraint(\n",
    "#         gamma * model.sum(x[i, j] * prob_transition[i * a + j][s_next] for i in range(s) for j in range(a))\n",
    "#         + (1 - gamma) * rho[s_next] == model.sum(x[s_next, a_next] for a_next in range(a)))\n",
    "# temp = 1\n",
    "# # for reward in rewards:\n",
    "# #     temp = temp *model.sum(x[i, j] * reward[i * a + j] / (1 - gamma) for i in range(s) for j in range(a))\n",
    "# # model.maximize(temp)\n",
    "# model.maximize((model.sum(x[i, j] * reward[i * a + j] / (1 - gamma) for i in range(s) for j in range(a))))\n",
    "# # model.maximize((model.sum(x[i, j] * reward[i * a + j] / (1 - gamma) for i in range(s) for j in range(a)) *\n",
    "# #                model.sum(x[i, j] * utility[i * a + j] / (1 - gamma) for i in range(s) for j in range(a))))\n",
    "# # search for a globally optimal solution to a nonconvex model\n",
    "# model.parameters.optimalitytarget = 3\n",
    "# model.solve()\n",
    "# print(np.log(model.objective_value))"
   ]
  },
  {
   "cell_type": "code",
   "execution_count": 18,
   "metadata": {},
   "outputs": [],
   "source": [
    "# one_vec = np.ones(a)\n",
    "# x = cp.Variable((s*a))\n",
    "# print(x.shape, reward.shape, cp.scalar_product(x, reward / (1 - gamma) ).shape, (x@prob_transition).shape)\n",
    "# print((x@prob_transition).shape, rho.shape, (cp.reshape(x,(s,a))@one_vec).shape)\n",
    "# print(x,cp.reshape(x,(s,a)))"
   ]
  },
  {
   "cell_type": "code",
   "execution_count": 13,
   "metadata": {},
   "outputs": [],
   "source": [
    "# # constraint = []\n",
    "# # for s_next in range(s):\n",
    "# #     for j in range(a):\n",
    "# # constraint = [gamma*x@prob_transition+ (1 - gamma) * rho==cp.reshape(x,(s,a))@one_vec, x>=0]\n",
    "# constraint = [gamma*x@prob_transition+ (1 - gamma) * rho==one_vec@cp.reshape(x,(a,s)), x>=0]\n",
    "\n",
    "\n",
    "# # objective = cp.Maximize(cp.multiply(cp.scalar_product(x, reward / (1 - gamma) ),cp.scalar_product(x, reward / (1 - gamma) ) ))\n",
    "# objective = cp.Maximize((cp.sum(cp.multiply(x,reward / (1 - gamma))) )*(cp.sum(cp.multiply(x,reward / (1 - gamma))) ))\n",
    "\n",
    "# prob = cp.Problem(objective, constraint)\n",
    "\n",
    "# # result = prob.solve(solver='GLPK_MI')\n",
    "# result = prob.solve(solver='SCIP')\n",
    "# print(np.log(result))"
   ]
  },
  {
   "cell_type": "code",
   "execution_count": null,
   "metadata": {},
   "outputs": [],
   "source": []
  },
  {
   "cell_type": "code",
   "execution_count": 14,
   "metadata": {},
   "outputs": [],
   "source": [
    "# gamma * model.sum(x[i, j] * prob_transition[i * a + j][s_next] for i in range(s) for j in range(a))\n",
    "#         + (1 - gamma) * rho[s_next] == model.sum(x[s_next, a_next] for a_next in range(a))\n",
    "\n",
    "# # objective = cp.Minimize(cp.sum([[x[i, j] * reward[i * a + j] / (1 - gamma) for i in range(s)] for j in range(a)]))\n",
    "\n",
    "# objective = cp.scalar_product(x.T, reward / (1 - gamma) )"
   ]
  },
  {
   "cell_type": "code",
   "execution_count": 15,
   "metadata": {},
   "outputs": [],
   "source": [
    "# constraint = gamma * model.sum(x[i, j] * prob_transition[i * a + j][s_next] for i in range(s) for j in range(a)) \n",
    "# + (1 - gamma) * rho[s_next] == model.sum(x[s_next, a_next] for a_next in range(a))"
   ]
  },
  {
   "cell_type": "code",
   "execution_count": 16,
   "metadata": {},
   "outputs": [],
   "source": [
    "# import pyscipopt"
   ]
  },
  {
   "cell_type": "code",
   "execution_count": null,
   "metadata": {},
   "outputs": [],
   "source": []
  }
 ],
 "metadata": {
  "kernelspec": {
   "display_name": "Python 3",
   "language": "python",
   "name": "python3"
  },
  "language_info": {
   "codemirror_mode": {
    "name": "ipython",
    "version": 3
   },
   "file_extension": ".py",
   "mimetype": "text/x-python",
   "name": "python",
   "nbconvert_exporter": "python",
   "pygments_lexer": "ipython3",
   "version": "3.8.5"
  }
 },
 "nbformat": 4,
 "nbformat_minor": 4
}
