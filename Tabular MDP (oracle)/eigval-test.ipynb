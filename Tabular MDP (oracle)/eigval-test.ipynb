{
 "cells": [
  {
   "cell_type": "code",
   "execution_count": 1,
   "id": "6f14296e-7bcc-48e0-8571-e40d70260776",
   "metadata": {},
   "outputs": [],
   "source": [
    "import numpy as np\n",
    "import matplotlib.pyplot as plt"
   ]
  },
  {
   "cell_type": "code",
   "execution_count": 2,
   "id": "7daa26ab-e232-49ac-9cda-9ae107c5840a",
   "metadata": {},
   "outputs": [],
   "source": [
    "A = np.zeros((3,3))"
   ]
  },
  {
   "cell_type": "code",
   "execution_count": 142,
   "id": "7e1fac4a-fb69-4409-90ae-d6e1c4feac94",
   "metadata": {},
   "outputs": [
    {
     "name": "stdout",
     "output_type": "stream",
     "text": [
      "[[1.0900e-01 1.0791e+01 8.9010e-01]\n",
      " [1.0000e-02 9.9000e-01 0.0000e+00]\n",
      " [1.0000e+00 1.0000e+00 0.0000e+00]]\n",
      "1.254137579952392\n",
      "[[ 0.67704642 -0.77008129  0.62187094]\n",
      " [-0.00355376 -0.02915455 -0.02704008]\n",
      " [-0.73593174 -0.63727924  0.78265277]]\n"
     ]
    }
   ],
   "source": [
    "A[2,0] = 1\n",
    "A[2,1] = 1\n",
    "\n",
    "gamma = 0.9\n",
    "\n",
    "tau = 1e5\n",
    "\n",
    "eta = (1-gamma)**2/(tau**1)*1e-1\n",
    "# eta = 1e-5\n",
    "C = 1\n",
    "\n",
    "alpha = 1-eta*tau/(1-gamma)\n",
    "# factor = tau\n",
    "factor = 1\n",
    "\n",
    "A[0,0] = gamma*(1-alpha)+eta*tau*C/(1-gamma)**2/factor\n",
    "A[0,1] = gamma*alpha + (1-gamma-eta*tau)*C/(1-gamma)**2/factor\n",
    "A[0,2] = gamma - gamma*eta*tau/(1-gamma) - gamma*eta**2*tau**2*C/(1-gamma)**3\n",
    "A[1,0] = eta*tau/(1-gamma)\n",
    "A[1,1] = 1-eta*tau/(1-gamma)\n",
    "\n",
    "print(A)\n",
    "print(np.max(np.abs(np.linalg.eigvals(A))))\n",
    "print((np.linalg.eig(A)[1]))\n",
    "\n"
   ]
  },
  {
   "cell_type": "code",
   "execution_count": 29,
   "id": "6df02c0b-7844-4b33-9ebf-1b391190c982",
   "metadata": {},
   "outputs": [
    {
     "name": "stdout",
     "output_type": "stream",
     "text": [
      "[ 22899.64544582+322274.10697902j  22899.64544582-322274.10697902j\n",
      " -95798.29089164     +0.j        ]\n"
     ]
    }
   ],
   "source": [
    "print(np.linalg.eigvals(A))"
   ]
  },
  {
   "cell_type": "code",
   "execution_count": null,
   "id": "911f964d-858d-4075-96c6-b1e0c53cbc93",
   "metadata": {},
   "outputs": [],
   "source": []
  }
 ],
 "metadata": {
  "kernelspec": {
   "display_name": "Python 3 (ipykernel)",
   "language": "python",
   "name": "python3"
  },
  "language_info": {
   "codemirror_mode": {
    "name": "ipython",
    "version": 3
   },
   "file_extension": ".py",
   "mimetype": "text/x-python",
   "name": "python",
   "nbconvert_exporter": "python",
   "pygments_lexer": "ipython3",
   "version": "3.9.7"
  }
 },
 "nbformat": 4,
 "nbformat_minor": 5
}
