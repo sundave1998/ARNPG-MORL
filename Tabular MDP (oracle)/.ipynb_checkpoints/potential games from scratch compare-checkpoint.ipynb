{
 "cells": [
  {
   "cell_type": "code",
   "execution_count": 30,
   "metadata": {},
   "outputs": [],
   "source": [
    "import numpy as np\n",
    "import matplotlib.pyplot as plt\n",
    "from tqdm import tqdm\n",
    "import copy\n",
    "from docplex.mp.model import Model\n",
    "# from NPG_CMDP import CMDP_NPG\n",
    "# from ARNPG_CMDP import CMDP_ARNPG\n",
    "# from MARL import MARL_agent, MO_MARL\n",
    "\n",
    "# Random Seed\n",
    "np.random.seed(10)"
   ]
  },
  {
   "cell_type": "code",
   "execution_count": 31,
   "metadata": {},
   "outputs": [
    {
     "name": "stdout",
     "output_type": "stream",
     "text": [
      "[[[0.77132064 0.02075195 0.63364823 0.74880388 0.49850701]\n",
      "  [0.22479665 0.19806286 0.76053071 0.16911084 0.08833981]\n",
      "  [0.68535982 0.95339335 0.00394827 0.51219226 0.81262096]\n",
      "  [0.61252607 0.72175532 0.29187607 0.91777412 0.71457578]]\n",
      "\n",
      " [[0.54254437 0.14217005 0.37334076 0.67413362 0.44183317]\n",
      "  [0.43401399 0.61776698 0.51313824 0.65039718 0.60103895]\n",
      "  [0.8052232  0.52164715 0.90864888 0.31923609 0.09045935]\n",
      "  [0.30070006 0.11398436 0.82868133 0.04689632 0.62628715]]\n",
      "\n",
      " [[0.54758616 0.819287   0.19894754 0.8568503  0.35165264]\n",
      "  [0.75464769 0.29596171 0.88393648 0.32551164 0.1650159 ]\n",
      "  [0.39252924 0.09346037 0.82110566 0.15115202 0.38411445]\n",
      "  [0.94426071 0.98762547 0.45630455 0.82612284 0.25137413]]]\n",
      "[array([0.29358315, 0.443704  , 0.26271285]), array([0.55351548, 0.03684008, 0.33497996, 0.07466448]), array([0.16252528, 0.17596499, 0.41172992, 0.02126099, 0.22851881])]\n"
     ]
    }
   ],
   "source": [
    "# n = 3\n",
    "# a = 5\n",
    "n=3\n",
    "action_spaces = np.array([3,4,5])\n",
    "# action_spaces = np.array([3,3])\n",
    "\n",
    "\n",
    "# shape = [a for x in range(n)]\n",
    "reward = np.random.uniform(0, 1, size=(action_spaces))\n",
    "# reward = np.zeros(action_spaces)\n",
    "# reward = np.array([[1,1],[0,1]])\n",
    "# rewards = [reward]\n",
    "# reward[0,1] = reward[1,2] = reward[2,0] = 1\n",
    "# reward[1,0] = reward[2,1] = reward[0,2] = -1\n",
    "\n",
    "print(reward)\n",
    "# Start state distribution\n",
    "# rho = np.ones(s) / s\n",
    "\n",
    "# initial_pi = np.ones((n,a))/a\n",
    "# initial_pi = ([np.array([1/i for x in range(int(i))]) for i in (action_spaces)])\n",
    "initial_pi = ([np.random.uniform(0,1,size=int(i)) for i in (action_spaces)])\n",
    "for pi in initial_pi:\n",
    "    pi/=np.sum(pi)\n",
    "print(initial_pi)"
   ]
  },
  {
   "cell_type": "code",
   "execution_count": 36,
   "metadata": {},
   "outputs": [
    {
     "name": "stdout",
     "output_type": "stream",
     "text": [
      "[0.29358315 0.443704   0.26271285]\n"
     ]
    },
    {
     "name": "stderr",
     "output_type": "stream",
     "text": [
      "100%|█████████████████████████████████████████████████████████████████████████████| 1000/1000 [00:00<00:00, 8230.79it/s]\n"
     ]
    },
    {
     "data": {
      "text/plain": [
       "[<matplotlib.lines.Line2D at 0x7f7be0dcd4f0>]"
      ]
     },
     "execution_count": 36,
     "metadata": {},
     "output_type": "execute_result"
    },
    {
     "data": {
      "image/png": "[encoded data removed]",
      "text/plain": [
       "<Figure size 640x480 with 1 Axes>"
      ]
     },
     "metadata": {},
     "output_type": "display_data"
    }
   ],
   "source": [
    "eta = 0.1\n",
    "tau = 0\n",
    "pi_star = np.copy(initial_pi)\n",
    "new_pi_star = np.copy(initial_pi)\n",
    "\n",
    "print(pi_star[0])\n",
    "pi = np.copy(initial_pi)\n",
    "NE_gaps = []\n",
    "N = 1000\n",
    "for i in tqdm(range(N)):\n",
    "    NE_gap = []\n",
    "    next_pi = np.copy(pi)\n",
    "    for agent in range(n):\n",
    "#         r = np.zeros(a)\n",
    "        r = np.copy(reward)\n",
    "#         print(r.shape)\n",
    "        r = np.transpose(r)\n",
    "        for left_agent in range(agent):\n",
    "#             print(\"current agent\", pi[left_agent])\n",
    "#             print(pi[left_agent].shape,r.shape)\n",
    "#             r = np.matmul(pi[left_agent],r)\n",
    "            r = np.matmul((r), pi[left_agent])\n",
    "\n",
    "#             print(\"left\", r.shape)\n",
    "        r = np.transpose(r)\n",
    "        for right_agent in range(n-1,agent, -1):\n",
    "#             print(\"current agent\", pi[right_agent])\n",
    "            r = np.matmul(r, pi[right_agent])\n",
    "#             print(\"right\", r.shape)\n",
    "        # if agent == 1:\n",
    "        #     r *= -1\n",
    "        NE_gap.append(np.max(r)-np.dot(r,pi[agent]))\n",
    "        # NE_gap.append(np.max(r)-np.mean(r))\n",
    "        \n",
    "        next_pi[agent] = np.power(pi[agent],(1-eta*tau))*np.exp(eta*r)\n",
    "        next_pi[agent]/=np.sum(next_pi[agent])\n",
    "    \n",
    "#         idx = r.argmax()\n",
    "#         pi_star[agent] = np.zeros(action_spaces[agent])\n",
    "#         pi_star[agent][idx] = 1\n",
    "#     for agent in range(n):\n",
    "#         r = np.copy(reward)\n",
    "# #         print(r.shape)\n",
    "#         r = np.transpose(r)\n",
    "#         for left_agent in range(agent):\n",
    "# #             print(\"current agent\", pi[left_agent])\n",
    "# #             print(pi[left_agent].shape,r.shape)\n",
    "# #             r = np.matmul(pi[left_agent],r)\n",
    "#             r = np.matmul((r), next_pi[left_agent])\n",
    "\n",
    "# #             print(\"left\", r.shape)\n",
    "#         r = np.transpose(r)\n",
    "#         for right_agent in range(n-1,agent, -1):\n",
    "# #             print(\"current agent\", pi[right_agent])\n",
    "#             r = np.matmul(r, next_pi[right_agent])\n",
    "#         idx = r.argmax()\n",
    "#         new_pi_star[agent] = np.zeros(action_spaces[agent])\n",
    "#         new_pi_star[agent][idx] = 1\n",
    "# #         print(np.dot(new_pi_star[agent]-pi_star[agent],np.log(next_pi[agent])))\n",
    "#         NE_gap.append(np.dot(new_pi_star[agent]-pi_star[agent],np.log(pi[agent])))\n",
    "#     pi_star = np.copy(new_pi_star)    \n",
    "    NE_gaps.append(NE_gap)\n",
    "    pi = np.copy(next_pi)\n",
    "# print(NE)\n",
    "        \n",
    "    \n",
    "#     prob_record.append(pi)\n",
    "#     NEgap = 0\n",
    "#     for agent in range(n):\n",
    "# #         print(\"r_i\",temp.Q_tilde[-1][agent*a:agent*a+a])\n",
    "# #         print()\n",
    "#         cur_gap =  np.max(temp.Q_tilde[-1][agent*a:agent*a+a]) - np.dot(temp.Q_tilde[-1][agent*a:agent*a+a], pi[agent*a:agent*a+a])\n",
    "#         NEgap = max(NEgap, cur_gap)\n",
    "    \n",
    "#     NE_gaps.append(NEgap)\n",
    "# cur_gap =  np.max(temp.Q_tilde[-1][agent*a:agent*a+a]) - np.dot(temp.Q_tilde[-1][agent*a:agent*a+a], pi[agent*a:agent*a+a])\n",
    "# print(cur_gap)    \n",
    "\n",
    "# print(A_tildes)\n",
    "# print(pi.shape)\n",
    "# # plt.plot(temp.gap)\n",
    "NE_gaps = np.array(NE_gaps)\n",
    "NE_gaps = np.sum(NE_gaps, axis=1)\n",
    "plt.plot(NE_gaps)\n",
    "# Q_global_star = np.copy(temp.Q_global[-1])\n",
    "# # Q_global: s*A\n",
    "\n",
    "# Q_tilde_star = np.copy(temp.Q_tilde[-1])\n",
    "# pi_star = np.copy(pi)\n",
    "# Pi_global_star = np.copy(Pi_global)"
   ]
  },
  {
   "cell_type": "code",
   "execution_count": 24,
   "metadata": {},
   "outputs": [
    {
     "name": "stdout",
     "output_type": "stream",
     "text": [
      "[array([1.00000000e+00, 1.50940226e-15, 1.89399207e-26])\n",
      " array([2.05758457e-25, 3.93313344e-28, 4.69678826e-13, 1.00000000e+00])\n",
      " array([5.19521886e-02, 2.86701805e-17, 4.58010037e-18, 1.67672131e-38,\n",
      "        9.48047811e-01])                                               ]\n"
     ]
    },
    {
     "data": {
      "text/plain": [
       "[<matplotlib.lines.Line2D at 0x7f7be1072c70>,\n",
       " <matplotlib.lines.Line2D at 0x7f7be1072cd0>,\n",
       " <matplotlib.lines.Line2D at 0x7f7be1072df0>]"
      ]
     },
     "execution_count": 24,
     "metadata": {},
     "output_type": "execute_result"
    },
    {
     "data": {
      "image/png": "[encoded data removed]",
      "text/plain": [
       "<Figure size 640x480 with 1 Axes>"
      ]
     },
     "metadata": {},
     "output_type": "display_data"
    }
   ],
   "source": [
    "NE_gaps = np.array(NE_gaps)\n",
    "print(pi)\n",
    "# NE_sum = np.zeros(NE_gaps.shape)\n",
    "# for i in range(1,N):\n",
    "#     NE_sum[i,:] = NE_sum[i-1,:]+NE_gaps[i,:]\n",
    "\n",
    "# plt.plot(np.max(NE_gaps, axis=1))\n",
    "# plt.plot(NE_sum)\n",
    "# plt.plot(np.sum(NE_gaps, axis=1))\n",
    "plt.plot(np.log(NE_gaps))\n",
    "\n",
    "# print(np.max(NE_gaps[2,1:1000]))\n",
    "# print(np.matmul([[[1,0.5],[1,1]],[[1,0.5],[1,1]]], [1,1]))"
   ]
  },
  {
   "cell_type": "code",
   "execution_count": 25,
   "metadata": {},
   "outputs": [
    {
     "data": {
      "text/plain": [
       "[<matplotlib.lines.Line2D at 0x7f7be0f5d8e0>,\n",
       " <matplotlib.lines.Line2D at 0x7f7be0f5d940>,\n",
       " <matplotlib.lines.Line2D at 0x7f7be0f5da60>]"
      ]
     },
     "execution_count": 25,
     "metadata": {},
     "output_type": "execute_result"
    },
    {
     "data": {
      "image/png": "[encoded data removed]",
      "text/plain": [
       "<Figure size 640x480 with 1 Axes>"
      ]
     },
     "metadata": {},
     "output_type": "display_data"
    }
   ],
   "source": [
    "# print(Q_tilde_star)\n",
    "# print(reward)\n",
    "# print(pi)\n",
    "# print(temp.gap[-1])\n",
    "stop = 1000\n",
    "\n",
    "x_range = np.linspace(0, N, num=N, endpoint=False)\n",
    "plt.plot((x_range[1:stop]), np.log(NE_gaps[1:stop]))\n",
    "# plt.plot(np.log(x_range[1:stop]), np.log(NE_gaps[1:stop]))\n",
    "# plt.plot(np.log(x_range[1:stop]), np.log(np.sqrt(1/x_range[1:stop])))\n",
    "# plt.plot(np.log(x_range[1:stop]), np.log((1/x_range[1:stop])))\n",
    "# plt.plot(np.log(x_range[1:stop]), np.log((1/x_range[1:stop])**2))\n",
    "\n",
    "# plt.xlim(0,5)"
   ]
  },
  {
   "cell_type": "code",
   "execution_count": 26,
   "metadata": {},
   "outputs": [
    {
     "ename": "NameError",
     "evalue": "name 'MARL_agent' is not defined",
     "output_type": "error",
     "traceback": [
      "\u001b[0;31m---------------------------------------------------------------------------\u001b[0m",
      "\u001b[0;31mNameError\u001b[0m                                 Traceback (most recent call last)",
      "\u001b[0;32m/tmp/ipykernel_55/663533079.py\u001b[0m in \u001b[0;36m<module>\u001b[0;34m\u001b[0m\n\u001b[1;32m      1\u001b[0m \u001b[0;31m# N = 1000\u001b[0m\u001b[0;34m\u001b[0m\u001b[0;34m\u001b[0m\u001b[0m\n\u001b[1;32m      2\u001b[0m \u001b[0;34m\u001b[0m\u001b[0m\n\u001b[0;32m----> 3\u001b[0;31m \u001b[0mtemp\u001b[0m \u001b[0;34m=\u001b[0m \u001b[0mMARL_agent\u001b[0m\u001b[0;34m(\u001b[0m\u001b[0mrewards\u001b[0m\u001b[0;34m,\u001b[0m \u001b[0ms\u001b[0m\u001b[0;34m,\u001b[0m \u001b[0ma\u001b[0m\u001b[0;34m,\u001b[0m \u001b[0mrho\u001b[0m\u001b[0;34m,\u001b[0m \u001b[0mgamma\u001b[0m\u001b[0;34m,\u001b[0m \u001b[0mn\u001b[0m\u001b[0;34m,\u001b[0m \u001b[0mprob_transition\u001b[0m\u001b[0;34m,\u001b[0m \u001b[0mtau\u001b[0m\u001b[0;34m=\u001b[0m\u001b[0;36m0.1\u001b[0m\u001b[0;34m)\u001b[0m\u001b[0;34m\u001b[0m\u001b[0;34m\u001b[0m\u001b[0m\n\u001b[0m\u001b[1;32m      4\u001b[0m \u001b[0mtemp\u001b[0m\u001b[0;34m.\u001b[0m\u001b[0mtau\u001b[0m \u001b[0;34m=\u001b[0m \u001b[0;36m1\u001b[0m\u001b[0;34m\u001b[0m\u001b[0;34m\u001b[0m\u001b[0m\n\u001b[1;32m      5\u001b[0m \u001b[0mtemp\u001b[0m\u001b[0;34m.\u001b[0m\u001b[0mstep\u001b[0m \u001b[0;34m=\u001b[0m \u001b[0;36m0.01\u001b[0m\u001b[0;34m\u001b[0m\u001b[0;34m\u001b[0m\u001b[0m\n",
      "\u001b[0;31mNameError\u001b[0m: name 'MARL_agent' is not defined"
     ]
    }
   ],
   "source": [
    "# N = 1000\n",
    "\n",
    "temp = MARL_agent(rewards, s, a, rho, gamma, n, prob_transition, tau=0.1)\n",
    "temp.tau = 1\n",
    "temp.step = 0.01\n",
    "# temp.theta = np.zeros(shape=n* s* a)\n",
    "temp.theta = np.random.uniform(0,1, size=n* s* a)\n",
    "\n",
    "prob_record = []\n",
    "Pi_global_record = []\n",
    "\n",
    "dif_pi_Q = []\n",
    "dif_bound = []\n",
    "alpha = 1-temp.step*temp.tau/(1-gamma)\n",
    "print(\"alpha\", alpha)\n",
    "# xi_global = np.zeros((N, s, A))\n",
    "N = 300\n",
    "xi_i = np.zeros((N+1, n, s, a))\n",
    "\n",
    "# xi_i[0] = \n",
    "for state in range(s):\n",
    "    for agent in range(n):\n",
    "        for action in range(a):\n",
    "            xi_i[0,agent, state, action] = np.sum(np.exp(Q_tilde_star[agent*(s*a):(agent+1)*(s*a)]/temp.tau))/a #start at even pi distribution\n",
    "for i in tqdm(range(N)):\n",
    "#   temp.NPG_entropy_step(verbose=False)\n",
    "    A_tildes, pi, Pi_global, V_tau, A_tau = temp.NPG_entropy_step_change(verbose=False)\n",
    "    prob_record.append(pi)\n",
    "    Pi_global_record.append(Pi_global)\n",
    "    \n",
    "    dif_pi_Q.append(Cal_diff_pi(pi_star,pi,Q_minus_log_pi_star))\n",
    "    state = 0\n",
    "    sum_temp = 0\n",
    "    for agent in range(n):\n",
    "        sum_temp+=a*np.abs(pi_star[agent*s*a + state*a:agent*s*a + state*a+a] - pi[agent*s*a + state*a:agent*s*a + state*a+a]).max()\n",
    "    dif_bound.append((Q_minus_log_pi_star.max()-Q_minus_log_pi_star.min())*sum_temp)\n",
    "#     for state in range(s):\n",
    "#         for agent in range(n):\n",
    "#             for action in range(a):\n",
    "#                 xi_i[i+1,agent, state, action] = xi_i[i,agent, state, action]**alpha*np.exp((1-alpha)* temp.Q_tilde[i][agent*(s*a)+state*a+action] /temp.tau)\n",
    "#         for global_action in range(A):\n",
    "#             Q_global = (temp.Q_global[i][state*(a**n)+global_action])\n",
    "\n",
    "# print(A_tildes)\n",
    "print(pi.shape)\n",
    "plt.plot(temp.gap)"
   ]
  },
  {
   "cell_type": "code",
   "execution_count": 7,
   "metadata": {},
   "outputs": [
    {
     "ename": "NameError",
     "evalue": "name 'dif_pi_Q' is not defined",
     "output_type": "error",
     "traceback": [
      "\u001b[0;31m---------------------------------------------------------------------------\u001b[0m",
      "\u001b[0;31mNameError\u001b[0m                                 Traceback (most recent call last)",
      "\u001b[0;32m/tmp/ipykernel_55/1624493311.py\u001b[0m in \u001b[0;36m<module>\u001b[0;34m\u001b[0m\n\u001b[1;32m      2\u001b[0m \u001b[0;34m\u001b[0m\u001b[0m\n\u001b[1;32m      3\u001b[0m \u001b[0;34m\u001b[0m\u001b[0m\n\u001b[0;32m----> 4\u001b[0;31m \u001b[0mplt\u001b[0m\u001b[0;34m.\u001b[0m\u001b[0mplot\u001b[0m\u001b[0;34m(\u001b[0m\u001b[0mdif_pi_Q\u001b[0m\u001b[0;34m)\u001b[0m\u001b[0;34m\u001b[0m\u001b[0;34m\u001b[0m\u001b[0m\n\u001b[0m\u001b[1;32m      5\u001b[0m \u001b[0mplt\u001b[0m\u001b[0;34m.\u001b[0m\u001b[0mplot\u001b[0m\u001b[0;34m(\u001b[0m\u001b[0mdif_bound\u001b[0m\u001b[0;34m)\u001b[0m\u001b[0;34m\u001b[0m\u001b[0;34m\u001b[0m\u001b[0m\n\u001b[1;32m      6\u001b[0m \u001b[0mplt\u001b[0m\u001b[0;34m.\u001b[0m\u001b[0mylim\u001b[0m\u001b[0;34m(\u001b[0m\u001b[0;36m0\u001b[0m\u001b[0;34m,\u001b[0m\u001b[0;36m0.01\u001b[0m\u001b[0;34m)\u001b[0m\u001b[0;34m\u001b[0m\u001b[0;34m\u001b[0m\u001b[0m\n",
      "\u001b[0;31mNameError\u001b[0m: name 'dif_pi_Q' is not defined"
     ]
    }
   ],
   "source": [
    "# print(dif_pi_Q)\n",
    "\n",
    "\n",
    "plt.plot(dif_pi_Q)\n",
    "plt.plot(dif_bound)\n",
    "plt.ylim(0,0.01)\n",
    "\n"
   ]
  },
  {
   "cell_type": "code",
   "execution_count": 27,
   "metadata": {},
   "outputs": [],
   "source": [
    "def Cal_diff_pi(pi_1, pi_2, vector):\n",
    "    state = 0\n",
    "    dist1 = np.zeros((n,a))\n",
    "    dist2 = np.zeros((n,a))\n",
    "    Q = vector[state,:]\n",
    "    for agent in range(n):\n",
    "        for action in range(a):\n",
    "            dist1[agent,action] = pi_1[agent*s*a + state*a+action]\n",
    "            dist2[agent,action] = pi_2[agent*s*a + state*a+action]\n",
    "        \n",
    "    weighted_sum = 0\n",
    "    for global_action in range(A):\n",
    "        counter = global_action\n",
    "        prob1 = 1\n",
    "        prob2 = 1\n",
    "        for agent in range(n):\n",
    "            local_action = counter%a\n",
    "            counter = int(counter/a)\n",
    "            prob1 *= dist1[agent,local_action]\n",
    "            prob2 *= dist2[agent,local_action]\n",
    "        weighted_sum += (prob1-prob2)*Q[global_action]\n",
    "    return weighted_sum\n",
    "\n"
   ]
  },
  {
   "cell_type": "code",
   "execution_count": 28,
   "metadata": {},
   "outputs": [
    {
     "ename": "NameError",
     "evalue": "name 's' is not defined",
     "output_type": "error",
     "traceback": [
      "\u001b[0;31m---------------------------------------------------------------------------\u001b[0m",
      "\u001b[0;31mNameError\u001b[0m                                 Traceback (most recent call last)",
      "\u001b[0;32m/tmp/ipykernel_55/1996233566.py\u001b[0m in \u001b[0;36m<module>\u001b[0;34m\u001b[0m\n\u001b[1;32m      8\u001b[0m \u001b[0;34m\u001b[0m\u001b[0m\n\u001b[1;32m      9\u001b[0m \u001b[0;34m\u001b[0m\u001b[0m\n\u001b[0;32m---> 10\u001b[0;31m \u001b[0mQ_minus_log_pi_star\u001b[0m \u001b[0;34m=\u001b[0m \u001b[0mnp\u001b[0m\u001b[0;34m.\u001b[0m\u001b[0mzeros\u001b[0m\u001b[0;34m(\u001b[0m\u001b[0;34m(\u001b[0m\u001b[0ms\u001b[0m\u001b[0;34m,\u001b[0m \u001b[0mA\u001b[0m\u001b[0;34m)\u001b[0m\u001b[0;34m)\u001b[0m\u001b[0;34m\u001b[0m\u001b[0;34m\u001b[0m\u001b[0m\n\u001b[0m\u001b[1;32m     11\u001b[0m \u001b[0;34m\u001b[0m\u001b[0m\n\u001b[1;32m     12\u001b[0m \u001b[0;32mfor\u001b[0m \u001b[0mstate\u001b[0m \u001b[0;32min\u001b[0m \u001b[0mrange\u001b[0m\u001b[0;34m(\u001b[0m\u001b[0ms\u001b[0m\u001b[0;34m)\u001b[0m\u001b[0;34m:\u001b[0m\u001b[0;34m\u001b[0m\u001b[0;34m\u001b[0m\u001b[0m\n",
      "\u001b[0;31mNameError\u001b[0m: name 's' is not defined"
     ]
    }
   ],
   "source": [
    "Q_minus_log_pi = np.zeros(N)\n",
    "        \n",
    "state = 0\n",
    "global_action = 0\n",
    "\n",
    "# for i in range(N):\n",
    "#     Q_minus_log_pi[i] = temp.Q_global[i][(state*A)+global_action] - temp.tau*np.log(Pi_global_record[i][state,(state*A)+global_action])\n",
    "    \n",
    "    \n",
    "Q_minus_log_pi_star = np.zeros((s, A))\n",
    "\n",
    "for state in range(s):\n",
    "    for global_action in range(A):\n",
    "        Q_minus_log_pi_star[state, global_action] = Q_global_star[(state*A)+global_action] - temp.tau*np.log(Pi_global_star[state,(state*A)+global_action])\n",
    "\n",
    "    "
   ]
  },
  {
   "cell_type": "code",
   "execution_count": 10,
   "metadata": {},
   "outputs": [],
   "source": [
    "# plt.plot(Q_minus_log_pi_star)"
   ]
  },
  {
   "cell_type": "code",
   "execution_count": 29,
   "metadata": {},
   "outputs": [
    {
     "ename": "NameError",
     "evalue": "name 'temp' is not defined",
     "output_type": "error",
     "traceback": [
      "\u001b[0;31m---------------------------------------------------------------------------\u001b[0m",
      "\u001b[0;31mNameError\u001b[0m                                 Traceback (most recent call last)",
      "\u001b[0;32m/tmp/ipykernel_55/3604100807.py\u001b[0m in \u001b[0;36m<module>\u001b[0;34m\u001b[0m\n\u001b[0;32m----> 1\u001b[0;31m \u001b[0mprint\u001b[0m\u001b[0;34m(\u001b[0m\u001b[0mtemp\u001b[0m\u001b[0;34m.\u001b[0m\u001b[0mQ_global\u001b[0m\u001b[0;34m[\u001b[0m\u001b[0;34m-\u001b[0m\u001b[0;36m1\u001b[0m\u001b[0;34m]\u001b[0m\u001b[0;34m[\u001b[0m\u001b[0;36m0\u001b[0m\u001b[0;34m]\u001b[0m\u001b[0;34m)\u001b[0m\u001b[0;34m\u001b[0m\u001b[0;34m\u001b[0m\u001b[0m\n\u001b[0m\u001b[1;32m      2\u001b[0m \u001b[0;31m# for agent in range(n):\u001b[0m\u001b[0;34m\u001b[0m\u001b[0;34m\u001b[0m\u001b[0m\n\u001b[1;32m      3\u001b[0m \u001b[0;31m#     print(\"agent\", agent)\u001b[0m\u001b[0;34m\u001b[0m\u001b[0;34m\u001b[0m\u001b[0m\n\u001b[1;32m      4\u001b[0m \u001b[0;31m#     print(temp.Q_tilde[-1][agent*s*a])\u001b[0m\u001b[0;34m\u001b[0m\u001b[0;34m\u001b[0m\u001b[0m\n\u001b[1;32m      5\u001b[0m \u001b[0;31m# # print(temp.Q_global[-1][0].shape)\u001b[0m\u001b[0;34m\u001b[0m\u001b[0;34m\u001b[0m\u001b[0m\n",
      "\u001b[0;31mNameError\u001b[0m: name 'temp' is not defined"
     ]
    }
   ],
   "source": [
    "print(temp.Q_global[-1][0])\n",
    "# for agent in range(n):\n",
    "#     print(\"agent\", agent)\n",
    "#     print(temp.Q_tilde[-1][agent*s*a])\n",
    "# # print(temp.Q_global[-1][0].shape)\n",
    "print(np.log(xi_i[-2,:,0,0]))\n",
    "\n",
    "xi_global = np.sum(np.log(xi_i[-2,:,0,0]))\n",
    "log_pi = 0\n",
    "for agent in range(n):\n",
    "    log_pi+= np.log(pi[agent*s*a])\n",
    "print(xi_global+2*log_pi)\n",
    "# check monotonicity of tilde{Q}\n",
    "# plt.plot(temp.Q_global)\n",
    "# print(temp.Q_tilde[-1].shape)\n",
    "# plt.plot(temp.Q_tilde-temp.tau*np.log(prob_record))\n",
    "plt.plot(np.log(xi_i[:,0,0,0]))"
   ]
  },
  {
   "cell_type": "code",
   "execution_count": 12,
   "metadata": {},
   "outputs": [
    {
     "ename": "NameError",
     "evalue": "name 'a' is not defined",
     "output_type": "error",
     "traceback": [
      "\u001b[0;31m---------------------------------------------------------------------------\u001b[0m",
      "\u001b[0;31mNameError\u001b[0m                                 Traceback (most recent call last)",
      "\u001b[0;32m/tmp/ipykernel_55/3677562189.py\u001b[0m in \u001b[0;36m<module>\u001b[0;34m\u001b[0m\n\u001b[0;32m----> 1\u001b[0;31m \u001b[0mlocal_actions\u001b[0m \u001b[0;34m=\u001b[0m \u001b[0mnp\u001b[0m\u001b[0;34m.\u001b[0m\u001b[0mrandom\u001b[0m\u001b[0;34m.\u001b[0m\u001b[0mrandint\u001b[0m\u001b[0;34m(\u001b[0m\u001b[0ma\u001b[0m\u001b[0;34m,\u001b[0m\u001b[0msize\u001b[0m\u001b[0;34m=\u001b[0m\u001b[0mn\u001b[0m\u001b[0;34m)\u001b[0m\u001b[0;34m\u001b[0m\u001b[0;34m\u001b[0m\u001b[0m\n\u001b[0m\u001b[1;32m      2\u001b[0m \u001b[0mprint\u001b[0m\u001b[0;34m(\u001b[0m\u001b[0;34m\"local actions:\"\u001b[0m\u001b[0;34m,\u001b[0m \u001b[0mlocal_actions\u001b[0m\u001b[0;34m)\u001b[0m\u001b[0;34m\u001b[0m\u001b[0;34m\u001b[0m\u001b[0m\n\u001b[1;32m      3\u001b[0m \u001b[0mglobal_action\u001b[0m \u001b[0;34m=\u001b[0m \u001b[0mlocal_actions\u001b[0m\u001b[0;34m[\u001b[0m\u001b[0;36m0\u001b[0m\u001b[0;34m]\u001b[0m\u001b[0;34m+\u001b[0m\u001b[0mlocal_actions\u001b[0m\u001b[0;34m[\u001b[0m\u001b[0;36m1\u001b[0m\u001b[0;34m]\u001b[0m\u001b[0;34m*\u001b[0m\u001b[0ma\u001b[0m\u001b[0;34m+\u001b[0m\u001b[0mlocal_actions\u001b[0m\u001b[0;34m[\u001b[0m\u001b[0;36m2\u001b[0m\u001b[0;34m]\u001b[0m\u001b[0;34m*\u001b[0m\u001b[0ma\u001b[0m\u001b[0;34m*\u001b[0m\u001b[0ma\u001b[0m\u001b[0;34m\u001b[0m\u001b[0;34m\u001b[0m\u001b[0m\n\u001b[1;32m      4\u001b[0m \u001b[0mprint\u001b[0m\u001b[0;34m(\u001b[0m\u001b[0;34m\"global action:\"\u001b[0m\u001b[0;34m,\u001b[0m \u001b[0mglobal_action\u001b[0m\u001b[0;34m)\u001b[0m\u001b[0;34m\u001b[0m\u001b[0;34m\u001b[0m\u001b[0m\n\u001b[1;32m      5\u001b[0m \u001b[0mstate\u001b[0m \u001b[0;34m=\u001b[0m \u001b[0mnp\u001b[0m\u001b[0;34m.\u001b[0m\u001b[0mrandom\u001b[0m\u001b[0;34m.\u001b[0m\u001b[0mrandint\u001b[0m\u001b[0;34m(\u001b[0m\u001b[0ms\u001b[0m\u001b[0;34m)\u001b[0m\u001b[0;34m\u001b[0m\u001b[0;34m\u001b[0m\u001b[0m\n",
      "\u001b[0;31mNameError\u001b[0m: name 'a' is not defined"
     ]
    }
   ],
   "source": [
    "local_actions = np.random.randint(a,size=n)\n",
    "print(\"local actions:\", local_actions)\n",
    "global_action = local_actions[0]+local_actions[1]*a+local_actions[2]*a*a\n",
    "print(\"global action:\", global_action)\n",
    "state = np.random.randint(s)\n",
    "print(\"state:\", state)\n",
    "sum_Q = []\n",
    "Q_sa = []\n",
    "for i in range(N):\n",
    "    Q_tilde_temp = 0\n",
    "    Q_global_temp = n*(temp.Q_global[i][state*(a**n)+global_action])\n",
    "    for agent in range(n):\n",
    "#         Q_tilde_temp += temp.Q_tilde[i][agent*(s*a)+state*a+local_actions[agent]]-temp.tau*np.log(prob_record[i][agent*(s*a)+state*a+local_actions[agent]])\n",
    "#         Q_global_temp -= temp.tau*np.log(prob_record[i][agent*(s*a)+state*a+local_actions[agent]])\n",
    "        Q_tilde_temp += temp.Q_tilde[i][agent*(s*a)+state*a+local_actions[agent]]\n",
    "    sum_Q.append(Q_tilde_temp)\n",
    "    Q_sa.append(Q_global_temp)\n",
    "plt.plot(sum_Q)    \n",
    "# plt.plot(Q_sa)    \n",
    "# #check monotonicity of V_{tau}\n",
    "# for i in range(0,len(temp.gap)-1):\n",
    "#     temp.gap[i] -= temp.gap[i+1]\n",
    "# plt.plot(temp.gap[0:90])\n",
    "# print(np.max(temp.gap[0:90]))"
   ]
  },
  {
   "cell_type": "code",
   "execution_count": 13,
   "metadata": {},
   "outputs": [],
   "source": [
    "# A_tildes, pi, V_tau, A_tau\n"
   ]
  },
  {
   "cell_type": "code",
   "execution_count": 14,
   "metadata": {},
   "outputs": [
    {
     "ename": "NameError",
     "evalue": "name 'a' is not defined",
     "output_type": "error",
     "traceback": [
      "\u001b[0;31m---------------------------------------------------------------------------\u001b[0m",
      "\u001b[0;31mNameError\u001b[0m                                 Traceback (most recent call last)",
      "\u001b[0;32m/tmp/ipykernel_55/4045868460.py\u001b[0m in \u001b[0;36m<module>\u001b[0;34m\u001b[0m\n\u001b[1;32m      3\u001b[0m \u001b[0mindex\u001b[0m \u001b[0;34m=\u001b[0m \u001b[0mN\u001b[0m\u001b[0;34m-\u001b[0m\u001b[0;36m1\u001b[0m\u001b[0;34m\u001b[0m\u001b[0;34m\u001b[0m\u001b[0m\n\u001b[1;32m      4\u001b[0m \u001b[0mstate\u001b[0m \u001b[0;34m=\u001b[0m \u001b[0;36m2\u001b[0m\u001b[0;34m\u001b[0m\u001b[0;34m\u001b[0m\u001b[0m\n\u001b[0;32m----> 5\u001b[0;31m \u001b[0;32mfor\u001b[0m \u001b[0maction1\u001b[0m \u001b[0;32min\u001b[0m \u001b[0mrange\u001b[0m\u001b[0;34m(\u001b[0m\u001b[0ma\u001b[0m\u001b[0;34m)\u001b[0m\u001b[0;34m:\u001b[0m\u001b[0;34m\u001b[0m\u001b[0;34m\u001b[0m\u001b[0m\n\u001b[0m\u001b[1;32m      6\u001b[0m     \u001b[0;32mfor\u001b[0m \u001b[0maction2\u001b[0m \u001b[0;32min\u001b[0m \u001b[0mrange\u001b[0m\u001b[0;34m(\u001b[0m\u001b[0ma\u001b[0m\u001b[0;34m)\u001b[0m\u001b[0;34m:\u001b[0m\u001b[0;34m\u001b[0m\u001b[0;34m\u001b[0m\u001b[0m\n\u001b[1;32m      7\u001b[0m         \u001b[0;32mfor\u001b[0m \u001b[0maction3\u001b[0m \u001b[0;32min\u001b[0m \u001b[0mrange\u001b[0m\u001b[0;34m(\u001b[0m\u001b[0ma\u001b[0m\u001b[0;34m)\u001b[0m\u001b[0;34m:\u001b[0m\u001b[0;34m\u001b[0m\u001b[0;34m\u001b[0m\u001b[0m\n",
      "\u001b[0;31mNameError\u001b[0m: name 'a' is not defined"
     ]
    }
   ],
   "source": [
    "global_Q = 0\n",
    "Q_i = 0\n",
    "index = N-1\n",
    "state = 2\n",
    "for action1 in range(a):\n",
    "    for action2 in range(a):\n",
    "        for action3 in range(a):\n",
    "            global_action = action1+action2*a+action3*a*a\n",
    "            term = temp.Q_global[index][state*(a**n)+global_action]\n",
    "            global_prob = prob_record[index][state*a+action1]*prob_record[index][s*a+state*a+action2]*prob_record[index][2*s*a+state*a+action3]\n",
    "            global_Q+= global_prob*(term - temp.tau*np.log(global_prob))\n",
    "#             global_Q+= global_prob*(A_tau[state*(a**n)+global_action] )\n",
    "for action in range(a):\n",
    "    local_prob = prob_record[index][state*a+action]\n",
    "    term = temp.Q_tilde[index][0*(s*a)+state*a+action]\n",
    "    Q_i+= local_prob*(term - temp.tau*np.log(local_prob))\n",
    "#     Q_i+= local_prob*(A_tildes[0][state*a+action])\n",
    "    \n",
    "print(global_Q)\n",
    "print(Q_i)\n",
    "# print(temp.Q_global[index])\n",
    "# print(temp.Q_tilde[index])\n",
    "# print(prob_record[index])\n",
    "\n"
   ]
  },
  {
   "cell_type": "code",
   "execution_count": 15,
   "metadata": {},
   "outputs": [
    {
     "ename": "NameError",
     "evalue": "name 'MARL_agent' is not defined",
     "output_type": "error",
     "traceback": [
      "\u001b[0;31m---------------------------------------------------------------------------\u001b[0m",
      "\u001b[0;31mNameError\u001b[0m                                 Traceback (most recent call last)",
      "\u001b[0;32m/tmp/ipykernel_55/3612875397.py\u001b[0m in \u001b[0;36m<module>\u001b[0;34m\u001b[0m\n\u001b[1;32m      1\u001b[0m \u001b[0;31m# approximate optimal value via soft q-iteration\u001b[0m\u001b[0;34m\u001b[0m\u001b[0;34m\u001b[0m\u001b[0m\n\u001b[0;32m----> 2\u001b[0;31m \u001b[0mtemp_opt\u001b[0m \u001b[0;34m=\u001b[0m \u001b[0mMARL_agent\u001b[0m\u001b[0;34m(\u001b[0m\u001b[0mrewards\u001b[0m\u001b[0;34m,\u001b[0m \u001b[0ms\u001b[0m\u001b[0;34m,\u001b[0m \u001b[0ma\u001b[0m\u001b[0;34m,\u001b[0m \u001b[0mrho\u001b[0m\u001b[0;34m,\u001b[0m \u001b[0mgamma\u001b[0m\u001b[0;34m,\u001b[0m \u001b[0mn\u001b[0m\u001b[0;34m,\u001b[0m \u001b[0mprob_transition\u001b[0m\u001b[0;34m,\u001b[0m \u001b[0mtau\u001b[0m\u001b[0;34m=\u001b[0m\u001b[0;36m0.1\u001b[0m\u001b[0;34m)\u001b[0m\u001b[0;34m\u001b[0m\u001b[0;34m\u001b[0m\u001b[0m\n\u001b[0m\u001b[1;32m      3\u001b[0m \u001b[0mtemp\u001b[0m\u001b[0;34m.\u001b[0m\u001b[0mstep\u001b[0m \u001b[0;34m=\u001b[0m \u001b[0;36m0.1\u001b[0m\u001b[0;34m\u001b[0m\u001b[0;34m\u001b[0m\u001b[0m\n\u001b[1;32m      4\u001b[0m \u001b[0mtemp\u001b[0m\u001b[0;34m.\u001b[0m\u001b[0mtheta\u001b[0m \u001b[0;34m=\u001b[0m \u001b[0mnp\u001b[0m\u001b[0;34m.\u001b[0m\u001b[0mzeros\u001b[0m\u001b[0;34m(\u001b[0m\u001b[0mshape\u001b[0m\u001b[0;34m=\u001b[0m\u001b[0mn\u001b[0m\u001b[0;34m*\u001b[0m \u001b[0ms\u001b[0m\u001b[0;34m*\u001b[0m \u001b[0ma\u001b[0m\u001b[0;34m)\u001b[0m\u001b[0;34m\u001b[0m\u001b[0;34m\u001b[0m\u001b[0m\n\u001b[1;32m      5\u001b[0m \u001b[0mell_star\u001b[0m\u001b[0;34m,\u001b[0m \u001b[0mA_tildes_opt\u001b[0m\u001b[0;34m,\u001b[0m \u001b[0mpi_opt\u001b[0m\u001b[0;34m,\u001b[0m \u001b[0mV_tau_opt\u001b[0m \u001b[0;34m=\u001b[0m \u001b[0mtemp_opt\u001b[0m\u001b[0;34m.\u001b[0m\u001b[0msolver\u001b[0m\u001b[0;34m(\u001b[0m\u001b[0mtyp\u001b[0m\u001b[0;34m=\u001b[0m\u001b[0;34m'global'\u001b[0m\u001b[0;34m)\u001b[0m\u001b[0;34m\u001b[0m\u001b[0;34m\u001b[0m\u001b[0m\n",
      "\u001b[0;31mNameError\u001b[0m: name 'MARL_agent' is not defined"
     ]
    }
   ],
   "source": [
    "# approximate optimal value via soft q-iteration\n",
    "temp_opt = MARL_agent(rewards, s, a, rho, gamma, n, prob_transition, tau=0.1)\n",
    "temp.step = 0.1\n",
    "temp.theta = np.zeros(shape=n* s* a)\n",
    "ell_star, A_tildes_opt, pi_opt, V_tau_opt = temp_opt.solver(typ='global')\n",
    "print(ell_star)"
   ]
  },
  {
   "cell_type": "code",
   "execution_count": 16,
   "metadata": {},
   "outputs": [
    {
     "ename": "NameError",
     "evalue": "name 'temp' is not defined",
     "output_type": "error",
     "traceback": [
      "\u001b[0;31m---------------------------------------------------------------------------\u001b[0m",
      "\u001b[0;31mNameError\u001b[0m                                 Traceback (most recent call last)",
      "\u001b[0;32m/tmp/ipykernel_55/1519592210.py\u001b[0m in \u001b[0;36m<module>\u001b[0;34m\u001b[0m\n\u001b[1;32m      1\u001b[0m \u001b[0;31m# judge convergence rate via log plot\u001b[0m\u001b[0;34m\u001b[0m\u001b[0;34m\u001b[0m\u001b[0m\n\u001b[0;32m----> 2\u001b[0;31m \u001b[0mopt_gap\u001b[0m \u001b[0;34m=\u001b[0m \u001b[0;34m[\u001b[0m\u001b[0mell_star\u001b[0m \u001b[0;34m-\u001b[0m \u001b[0mgap\u001b[0m \u001b[0;32mfor\u001b[0m \u001b[0mgap\u001b[0m \u001b[0;32min\u001b[0m \u001b[0mtemp\u001b[0m\u001b[0;34m.\u001b[0m\u001b[0mgap\u001b[0m\u001b[0;34m]\u001b[0m\u001b[0;34m\u001b[0m\u001b[0;34m\u001b[0m\u001b[0m\n\u001b[0m\u001b[1;32m      3\u001b[0m \u001b[0mplt\u001b[0m\u001b[0;34m.\u001b[0m\u001b[0maxes\u001b[0m\u001b[0;34m(\u001b[0m\u001b[0myscale\u001b[0m\u001b[0;34m=\u001b[0m\u001b[0;34m'log'\u001b[0m\u001b[0;34m)\u001b[0m\u001b[0;34m\u001b[0m\u001b[0;34m\u001b[0m\u001b[0m\n\u001b[1;32m      4\u001b[0m \u001b[0;31m# plt.axes(xscale='log')\u001b[0m\u001b[0;34m\u001b[0m\u001b[0;34m\u001b[0m\u001b[0m\n\u001b[1;32m      5\u001b[0m \u001b[0mplt\u001b[0m\u001b[0;34m.\u001b[0m\u001b[0mplot\u001b[0m\u001b[0;34m(\u001b[0m\u001b[0mopt_gap\u001b[0m\u001b[0;34m)\u001b[0m\u001b[0;34m\u001b[0m\u001b[0;34m\u001b[0m\u001b[0m\n",
      "\u001b[0;31mNameError\u001b[0m: name 'temp' is not defined"
     ]
    }
   ],
   "source": [
    "# judge convergence rate via log plot\n",
    "opt_gap = [ell_star - gap for gap in temp.gap]\n",
    "plt.axes(yscale='log')\n",
    "# plt.axes(xscale='log')\n",
    "plt.plot(opt_gap)"
   ]
  },
  {
   "cell_type": "code",
   "execution_count": 17,
   "metadata": {},
   "outputs": [
    {
     "ename": "NameError",
     "evalue": "name 'A_tildes' is not defined",
     "output_type": "error",
     "traceback": [
      "\u001b[0;31m---------------------------------------------------------------------------\u001b[0m",
      "\u001b[0;31mNameError\u001b[0m                                 Traceback (most recent call last)",
      "\u001b[0;32m/tmp/ipykernel_55/3622319305.py\u001b[0m in \u001b[0;36m<module>\u001b[0;34m\u001b[0m\n\u001b[1;32m      1\u001b[0m \u001b[0;31m# check middle results\u001b[0m\u001b[0;34m\u001b[0m\u001b[0;34m\u001b[0m\u001b[0m\n\u001b[0;32m----> 2\u001b[0;31m \u001b[0mprint\u001b[0m\u001b[0;34m(\u001b[0m\u001b[0;34m'Atildes'\u001b[0m\u001b[0;34m,\u001b[0m \u001b[0mA_tildes\u001b[0m\u001b[0;34m)\u001b[0m\u001b[0;34m\u001b[0m\u001b[0;34m\u001b[0m\u001b[0m\n\u001b[0m\u001b[1;32m      3\u001b[0m \u001b[0mprint\u001b[0m\u001b[0;34m(\u001b[0m\u001b[0;34m'pi'\u001b[0m\u001b[0;34m,\u001b[0m \u001b[0mpi\u001b[0m\u001b[0;34m)\u001b[0m\u001b[0;34m\u001b[0m\u001b[0;34m\u001b[0m\u001b[0m\n\u001b[1;32m      4\u001b[0m \u001b[0mprint\u001b[0m\u001b[0;34m(\u001b[0m\u001b[0;34m'Vtau'\u001b[0m\u001b[0;34m,\u001b[0m \u001b[0mV_tau\u001b[0m\u001b[0;34m)\u001b[0m\u001b[0;34m\u001b[0m\u001b[0;34m\u001b[0m\u001b[0m\n\u001b[1;32m      5\u001b[0m \u001b[0mprint\u001b[0m\u001b[0;34m(\u001b[0m\u001b[0;34m'Atau'\u001b[0m\u001b[0;34m,\u001b[0m \u001b[0mA_tau\u001b[0m\u001b[0;34m)\u001b[0m\u001b[0;34m\u001b[0m\u001b[0;34m\u001b[0m\u001b[0m\n",
      "\u001b[0;31mNameError\u001b[0m: name 'A_tildes' is not defined"
     ]
    }
   ],
   "source": [
    "# check middle results\n",
    "print('Atildes', A_tildes)\n",
    "print('pi', pi)\n",
    "print('Vtau', V_tau)\n",
    "print('Atau', A_tau)\n",
    "print('test', np.dot(A_tildes[0], pi[0:s*a]))"
   ]
  },
  {
   "cell_type": "code",
   "execution_count": 10,
   "metadata": {},
   "outputs": [
    {
     "name": "stdout",
     "output_type": "stream",
     "text": [
      "0.00760697948977569\n"
     ]
    }
   ],
   "source": [
    "def cal_Q_tildes(Atildes, Pi, Vtau, tau=0.1):\n",
    "    Q_tildes = np.zeros(n*s*a)\n",
    "    for agent in range(n):\n",
    "        for state in range(s):\n",
    "            Q_tildes[agent*s*a+state*a:agent*s*a+(state+1)*a] = Atildes[agent][state*a:(state+1)*a] \n",
    "            + tau * np.log(Pi[state*a:(state+1)*a]) + Vtau[state]\n",
    "    return Q_tildes\n",
    "            \n",
    "Q_tildes = cal_Q_tildes(A_tildes, pi, V_tau, 0.1)\n",
    "Q_tildes_opt = cal_Q_tildes(A_tildes_opt, pi_opt, V_tau_opt, 0.1)\n",
    "print(max(np.abs(Q_tildes - Q_tildes_opt)))"
   ]
  },
  {
   "cell_type": "code",
   "execution_count": 11,
   "metadata": {},
   "outputs": [
    {
     "name": "stdout",
     "output_type": "stream",
     "text": [
      "2.125484575365988e-05\n"
     ]
    }
   ],
   "source": [
    "def Q_cal(V, func):\n",
    "    Q = np.zeros(s * A)\n",
    "    for i in range(s):\n",
    "        for j in range(A):\n",
    "            Q[i * A + j] = func[i * A + j] + gamma * np.matmul(prob_transition[i * A + j], V)\n",
    "    return Q\n",
    "\n",
    "Q = Q_cal(V_tau, reward)\n",
    "Q_opt = Q_cal(V_tau_opt, reward)\n",
    "print(max(np.abs(Q - Q_opt)))"
   ]
  },
  {
   "cell_type": "code",
   "execution_count": null,
   "metadata": {},
   "outputs": [],
   "source": []
  },
  {
   "cell_type": "code",
   "execution_count": 5,
   "metadata": {},
   "outputs": [
    {
     "name": "stdout",
     "output_type": "stream",
     "text": [
      "[2.32789176 1.42730195 0.         0.17390555 0.35655456 0.38287269\n",
      " 0.20226845 0.22354205]\n",
      "[0.71107069 0.28892931 0.45663285 0.54336715 0.49342085 0.50657915\n",
      " 0.4946818  0.5053182 ]\n"
     ]
    }
   ],
   "source": [
    "prob = temp.theta_to_policy()\n",
    "Pi = temp.get_Pi(prob)\n",
    "mat = np.identity(temp.s * temp.A) - temp.gamma * np.matmul(temp.prob_transition, Pi)\n",
    "P_theta = np.matmul(Pi, temp.prob_transition) # |S|*|S|\n",
    "d_pi = (1 - temp.gamma) * np.dot(np.transpose((np.linalg.inv(np.identity(temp.s) - temp.gamma * P_theta))), temp.rho)\n",
    "\n",
    "print(temp.theta)\n",
    "print(prob)"
   ]
  },
  {
   "cell_type": "code",
   "execution_count": null,
   "metadata": {},
   "outputs": [
    {
     "name": "stderr",
     "output_type": "stream",
     "text": [
      "100%|██████████| 500/500 [00:03<00:00, 147.55it/s]\n",
      "100%|██████████| 500/500 [00:03<00:00, 148.82it/s]\n",
      "100%|██████████| 500/500 [00:03<00:00, 144.85it/s]\n",
      "100%|██████████| 500/500 [00:03<00:00, 141.89it/s]\n",
      " 32%|███▏      | 158/500 [00:01<00:02, 140.39it/s]"
     ]
    }
   ],
   "source": [
    "N = 500\n",
    "ax1 = plt.subplot(211)\n",
    "# ax1.plot(t, np.sin(2*np.pi*t))\n",
    "\n",
    "ax2 = plt.subplot(212, sharex=ax1)\n",
    "# ax2.plot(t, np.sin(4*np.pi*t))\n",
    "\n",
    "for j in range(5):\n",
    "    temp = MO_MARL(rewards, s, a, rho, gamma, n, prob_transition)\n",
    "    for i in tqdm(range(N)):\n",
    "        temp.Centralized_NPG_step(verbose = False)\n",
    "    ax1.plot(temp.gap)\n",
    "    ax2.plot(temp.avg_gap)\n",
    "    \n",
    "plt.show()\n",
    "    "
   ]
  },
  {
   "cell_type": "code",
   "execution_count": 14,
   "metadata": {},
   "outputs": [
    {
     "name": "stdout",
     "output_type": "stream",
     "text": [
      "[[-2.  1.  0.  0.  1.]\n",
      " [ 1. -2.  1.  0.  0.]\n",
      " [ 0.  1. -2.  1.  0.]\n",
      " [ 0.  0.  1. -2.  1.]\n",
      " [ 1.  0.  0.  1. -2.]]\n",
      "[[0.8 0.1 0.  0.  0.1]\n",
      " [0.1 0.8 0.1 0.  0. ]\n",
      " [0.  0.1 0.8 0.1 0. ]\n",
      " [0.  0.  0.1 0.8 0.1]\n",
      " [0.1 0.  0.  0.1 0.8]]\n"
     ]
    }
   ],
   "source": [
    "agent_num = 5\n",
    "Laplacian = np.zeros((agent_num, agent_num))\n",
    "\n",
    "for i in range(agent_num):\n",
    "    Laplacian[i,i] = -2\n",
    "    Laplacian[i,(i+1)%agent_num] = 1\n",
    "    Laplacian[i,(i-1)%agent_num] = 1\n",
    "print(Laplacian)\n",
    "\n",
    "W = np.zeros((agent_num, agent_num))\n",
    "eta = 0.1\n",
    "for i in range(agent_num):\n",
    "    W[i,i] = 1-2*eta\n",
    "    W[i,(i+1)%agent_num] = eta\n",
    "    W[i,(i-1)%agent_num] = eta\n",
    "print(W)\n",
    "\n"
   ]
  },
  {
   "cell_type": "code",
   "execution_count": 9,
   "metadata": {},
   "outputs": [
    {
     "name": "stderr",
     "output_type": "stream",
     "text": [
      "100%|███████████████████████████████████████████████████████████████████████████████| 1000/1000 [06:07<00:00,  2.72it/s]\n"
     ]
    }
   ],
   "source": [
    "agent_list = []\n",
    "for i in range(agent_num):\n",
    "    agent_list.append(MO_MARL(rewards, s, a, rho, gamma, n, prob_transition))\n",
    "# for k in range(5):\n",
    "old_grad = np.zeros((agent_num, reward_num))\n",
    "grad = np.zeros((agent_num, reward_num))\n",
    "y = np.zeros((agent_num, reward_num))\n",
    "all_theta = np.zeros((agent_num, n*s*a))\n",
    "N = 1000\n",
    "for k in tqdm(range(N)):\n",
    "    \n",
    "    for i in range(agent_num):\n",
    "        grad[i] = agent_list[i].calculate_G(num=i,verbose = False)\n",
    "        all_theta[i] = copy.deepcopy(agent_list[i].theta)\n",
    "\n",
    "    y = W@y+grad-old_grad\n",
    "#     y = W@grad\n",
    "#     y = copy.deepcopy(grad)\n",
    "#     y = y + eta*Laplacian@grad\n",
    "    old_grad = copy.deepcopy(grad)\n",
    "    all_theta = W@all_theta\n",
    "        \n",
    "    for i in range(agent_num):\n",
    "        agent_list[i].theta=all_theta[i]\n",
    "        agent_list[i].NPG_step_given_G(y[i], verbose = False)\n",
    "        "
   ]
  },
  {
   "cell_type": "code",
   "execution_count": 10,
   "metadata": {},
   "outputs": [
    {
     "data": {
      "text/plain": [
       "[<matplotlib.lines.Line2D at 0x7fdfd531f460>]"
      ]
     },
     "execution_count": 10,
     "metadata": {},
     "output_type": "execute_result"
    },
    {
     "data": {
      "image/png": "[encoded data removed]",
      "text/plain": [
       "<Figure size 432x288 with 1 Axes>"
      ]
     },
     "metadata": {
      "needs_background": "light"
     },
     "output_type": "display_data"
    }
   ],
   "source": [
    "# plt.plot(agent_list[0].Q_record)\n",
    "plt.plot(agent_list[0].V_record[0])\n",
    "plt.plot(agent_list[0].V_record[1])\n",
    "plt.plot(agent_list[0].V_record[2])\n",
    "plt.plot(agent_list[0].V_record[3])\n",
    "plt.plot(agent_list[0].V_record[4])"
   ]
  },
  {
   "cell_type": "code",
   "execution_count": 13,
   "metadata": {},
   "outputs": [
    {
     "name": "stdout",
     "output_type": "stream",
     "text": [
      "6.313887881586048\n",
      "6.266685230417442\n",
      "6.30454248226258\n",
      "6.367220519322908\n",
      "6.312252667057926\n"
     ]
    },
    {
     "data": {
      "text/plain": [
       "[<matplotlib.lines.Line2D at 0x7fdfd51a2670>]"
      ]
     },
     "execution_count": 13,
     "metadata": {},
     "output_type": "execute_result"
    },
    {
     "data": {
      "image/png": "[encoded data removed]",
      "text/plain": [
       "<Figure size 432x288 with 1 Axes>"
      ]
     },
     "metadata": {
      "needs_background": "light"
     },
     "output_type": "display_data"
    }
   ],
   "source": [
    "# plt.plot(agent_list[0].gap)\n",
    "\n",
    "for i in range(agent_num):\n",
    "    plt.plot(agent_list[i].gap)\n",
    "    print(agent_list[i].gap[-1])\n",
    "plt.plot(temp.gap)"
   ]
  },
  {
   "cell_type": "code",
   "execution_count": null,
   "metadata": {},
   "outputs": [],
   "source": []
  }
 ],
 "metadata": {
  "kernelspec": {
   "display_name": "Python 3 (ipykernel)",
   "language": "python",
   "name": "python3"
  },
  "language_info": {
   "codemirror_mode": {
    "name": "ipython",
    "version": 3
   },
   "file_extension": ".py",
   "mimetype": "text/x-python",
   "name": "python",
   "nbconvert_exporter": "python",
   "pygments_lexer": "ipython3",
   "version": "3.9.13"
  }
 },
 "nbformat": 4,
 "nbformat_minor": 4
}
