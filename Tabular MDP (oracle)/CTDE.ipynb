{
 "cells": [
  {
   "cell_type": "code",
   "execution_count": 1,
   "metadata": {},
   "outputs": [],
   "source": [
    "import numpy as np\n",
    "import matplotlib.pyplot as plt\n",
    "from tqdm import tqdm\n",
    "import copy\n",
    "\n",
    "from docplex.mp.model import Model\n",
    "# from NPG_CMDP import CMDP_NPG\n",
    "# from ARNPG_CMDP import CMDP_ARNPG\n",
    "\n",
    "\"\"\"Our code customizes the CMDP code from the paper:\n",
    "Natural Policy Gradient Primal-Dual Method for Constrained Markov Decision Processes, Dongsheng Ding et al.\n",
    "\"\"\"\n",
    "\n",
    "\"\"\"Natural Policy Gradient Primal-Dual Method with Softmax Parametrization\n",
    "\"\"\"\n",
    "from MARL import MARL_agent, MO_MARL\n",
    "# Random Seed\n",
    "np.random.seed(10)\n"
   ]
  },
  {
   "cell_type": "code",
   "execution_count": 6,
   "metadata": {},
   "outputs": [],
   "source": [
    "from MARL import MARL_agent\n",
    "n = 2\n",
    "a = 2\n",
    "s = 2\n",
    "gamma = 0\n",
    "\n",
    "A = a**n\n",
    "\n",
    "# Randomly generated probability transition matrix P((s,a) -> s') in [0,1]^{|S||A| x |S|}\n",
    "# raw_transition = np.random.uniform(0, 1, size=(s * A, s))\n",
    "raw_transition = np.ones((s * A, s))\n",
    "prob_transition = raw_transition / raw_transition.sum(axis=1, keepdims=1)\n",
    "# print(prob_transition)\n",
    "# Random positive rewards\n",
    "\n",
    "reward = np.random.uniform(0, 1, size=(s * A))\n",
    "\n",
    "# potential = np.random.uniform(0, 1, size=(n,s,a))\n",
    "reward = np.zeros((s * A))\n",
    "# for state in range(s):\n",
    "#     for action in range(A):\n",
    "#         temp = action\n",
    "#         for agent in range(n):\n",
    "#             local_action = temp%n\n",
    "#             temp = int(temp/n)\n",
    "#             reward+=potential[agent,state, local_action]\n",
    "\n",
    "rewards = [reward]\n",
    "# Random positive utilities\n",
    "# utility = np.random.uniform(0, 1, size=(s * A))\n",
    "# Utility constraint offset b\n",
    "# Start state distribution\n",
    "rho = np.ones(s) / s\n",
    "# rewards = [reward]\n",
    "temp = MARL_agent(rewards, s, a, rho, gamma, n, prob_transition)\n",
    "temp.tau = 10\n",
    "temp.step = 0.1\n",
    "temp.theta = np.random.uniform(0, 1, size=n* s* a)\n"
   ]
  },
  {
   "cell_type": "code",
   "execution_count": 7,
   "metadata": {},
   "outputs": [
    {
     "name": "stderr",
     "output_type": "stream",
     "text": [
      "100%|██████████| 5/5 [00:00<00:00, 833.16it/s]"
     ]
    },
    {
     "name": "stdout",
     "output_type": "stream",
     "text": [
      "iteration: 1\n",
      "A_tau [ 2.41558071  2.41558071 -1.61436981 -1.61436981  3.78009175  3.78009175\n",
      " -2.09965597 -2.09965597]\n",
      "A_tildes [array([-0.08666341, -0.08666341,  2.36683342,  2.36683342]), array([ 2.41558071, -1.61436981, -1.61436981,  3.78009175])]\n",
      "prob [0.43248959 0.56751041 0.34121088 0.65878912 0.40059296 0.59940704\n",
      " 0.35709967 0.64290033]\n",
      "Average gap: 13.254109428812328\n",
      "iteration: 2\n",
      "A_tau [ 0.00000000e+00  0.00000000e+00  8.88178420e-16  8.88178420e-16\n",
      "  8.51611634e+00  8.51611634e+00 -2.75809295e+00 -2.75809295e+00]\n",
      "A_tildes [array([0.18342635, 0.18342635, 2.98641854, 2.98641854]), array([0.00000000e+00, 8.88178420e-16, 8.88178420e-16, 8.51611634e+00])]\n",
      "prob [0.43248959 0.56751041 0.34121088 0.65878912 0.5        0.5\n",
      " 0.24463737 0.75536263]\n",
      "Average gap: 13.065437650394287\n",
      "iteration: 3\n",
      "A_tau [ 0.          0.          0.          0.         17.38734461 17.38734461\n",
      " -2.40298102 -2.40298102]\n",
      "A_tildes [array([0.18342635, 0.18342635, 3.66524523, 3.66524523]), array([ 0.        ,  0.        ,  0.        , 17.38734461])]\n",
      "prob [0.43248959 0.56751041 0.34121088 0.65878912 0.5        0.5\n",
      " 0.12142201 0.87857799]\n",
      "Average gap: 12.691517150345078\n",
      "iteration: 4\n",
      "A_tau [ 0.          0.          0.          0.         36.29610526 36.29610526\n",
      " -0.88156497 -0.88156497]\n",
      "A_tildes [array([0.18342635, 0.18342635, 4.2035548 , 4.2035548 ]), array([ 0.        ,  0.        ,  0.        , 36.29610526])]\n",
      "prob [0.43248959 0.56751041 0.34121088 0.65878912 0.5        0.5\n",
      " 0.02371222 0.97628778]\n",
      "Average gap: 12.182563996909456\n",
      "iteration: 5\n",
      "A_tau [ 0.00000000e+00  0.00000000e+00  0.00000000e+00  0.00000000e+00\n",
      "  7.34264683e+01  7.34264683e+01 -4.73071858e-02 -4.73071858e-02]\n",
      "A_tildes [array([0.18342635, 0.18342635, 4.33064457, 4.33064457]), array([ 0.        ,  0.        ,  0.        , 73.42646831])]\n",
      "prob [4.32489589e-01 5.67510411e-01 3.41210884e-01 6.58789116e-01\n",
      " 5.00000000e-01 5.00000000e-01 6.43864910e-04 9.99356135e-01]\n",
      "Average gap: 11.77041252319749\n"
     ]
    },
    {
     "name": "stderr",
     "output_type": "stream",
     "text": [
      "\n"
     ]
    },
    {
     "data": {
      "text/plain": [
       "[<matplotlib.lines.Line2D at 0x1a221cf9d60>]"
      ]
     },
     "execution_count": 7,
     "metadata": {},
     "output_type": "execute_result"
    },
    {
     "data": {
      "image/png": "[encoded data removed]",
      "text/plain": [
       "<Figure size 432x288 with 1 Axes>"
      ]
     },
     "metadata": {
      "needs_background": "light"
     },
     "output_type": "display_data"
    }
   ],
   "source": [
    "N = 5\n",
    "for i in tqdm(range(N)):\n",
    "    temp.NPG_entropy_step(verbose = True)\n",
    "#     temp.NPG_entropy_step(verbose = False)\n",
    "#     print(\"prob\", temp.theta_to_policy())\n",
    "plt.plot(temp.gap)\n",
    "# print(temp.gap)\n",
    "# plt.plot(temp.avg_gap)"
   ]
  },
  {
   "cell_type": "code",
   "execution_count": 7,
   "metadata": {},
   "outputs": [
    {
     "name": "stdout",
     "output_type": "stream",
     "text": [
      "-0.2529202235730921\n"
     ]
    },
    {
     "data": {
      "image/png": "[encoded data removed]",
      "text/plain": [
       "<Figure size 432x288 with 1 Axes>"
      ]
     },
     "metadata": {
      "needs_background": "light"
     },
     "output_type": "display_data"
    }
   ],
   "source": [
    "for i in range(0,len(temp.gap)-1):\n",
    "    temp.gap[i] -= temp.gap[i+1]\n",
    "plt.plot(temp.gap[0:90])\n",
    "print(np.min(temp.gap[0:90]))"
   ]
  },
  {
   "cell_type": "code",
   "execution_count": 17,
   "metadata": {},
   "outputs": [
    {
     "name": "stdout",
     "output_type": "stream",
     "text": [
      "[0.52367507 0.47632493 0.54850059 0.45149941 0.59763028 0.40236972\n",
      " 0.36339967 0.63660033]\n"
     ]
    }
   ],
   "source": [
    "prob = temp.theta_to_policy()\n",
    "Pi = temp.get_Pi(prob)\n",
    "mat = np.identity(temp.s * temp.A) - temp.gamma * np.matmul(temp.prob_transition, Pi)\n",
    "P_theta = np.matmul(Pi, temp.prob_transition) # |S|*|S|\n",
    "d_pi = (1 - temp.gamma) * np.dot(np.transpose((np.linalg.inv(np.identity(temp.s) - temp.gamma * P_theta))), temp.rho)\n",
    "\n",
    "\n",
    "print(prob)"
   ]
  },
  {
   "cell_type": "code",
   "execution_count": null,
   "metadata": {},
   "outputs": [
    {
     "name": "stderr",
     "output_type": "stream",
     "text": [
      "100%|██████████| 500/500 [00:03<00:00, 147.55it/s]\n",
      "100%|██████████| 500/500 [00:03<00:00, 148.82it/s]\n",
      "100%|██████████| 500/500 [00:03<00:00, 144.85it/s]\n",
      "100%|██████████| 500/500 [00:03<00:00, 141.89it/s]\n",
      " 32%|███▏      | 158/500 [00:01<00:02, 140.39it/s]"
     ]
    }
   ],
   "source": [
    "N = 500\n",
    "ax1 = plt.subplot(211)\n",
    "# ax1.plot(t, np.sin(2*np.pi*t))\n",
    "\n",
    "ax2 = plt.subplot(212, sharex=ax1)\n",
    "# ax2.plot(t, np.sin(4*np.pi*t))\n",
    "\n",
    "for j in range(5):\n",
    "    temp = MO_MARL(rewards, s, a, rho, gamma, n, prob_transition)\n",
    "    for i in tqdm(range(N)):\n",
    "        temp.Centralized_NPG_step(verbose = False)\n",
    "    ax1.plot(temp.gap)\n",
    "    ax2.plot(temp.avg_gap)\n",
    "    \n",
    "plt.show()\n",
    "    "
   ]
  },
  {
   "cell_type": "code",
   "execution_count": 14,
   "metadata": {},
   "outputs": [
    {
     "name": "stdout",
     "output_type": "stream",
     "text": [
      "[[-2.  1.  0.  0.  1.]\n",
      " [ 1. -2.  1.  0.  0.]\n",
      " [ 0.  1. -2.  1.  0.]\n",
      " [ 0.  0.  1. -2.  1.]\n",
      " [ 1.  0.  0.  1. -2.]]\n",
      "[[0.8 0.1 0.  0.  0.1]\n",
      " [0.1 0.8 0.1 0.  0. ]\n",
      " [0.  0.1 0.8 0.1 0. ]\n",
      " [0.  0.  0.1 0.8 0.1]\n",
      " [0.1 0.  0.  0.1 0.8]]\n"
     ]
    }
   ],
   "source": [
    "agent_num = 5\n",
    "Laplacian = np.zeros((agent_num, agent_num))\n",
    "\n",
    "for i in range(agent_num):\n",
    "    Laplacian[i,i] = -2\n",
    "    Laplacian[i,(i+1)%agent_num] = 1\n",
    "    Laplacian[i,(i-1)%agent_num] = 1\n",
    "print(Laplacian)\n",
    "\n",
    "W = np.zeros((agent_num, agent_num))\n",
    "eta = 0.1\n",
    "for i in range(agent_num):\n",
    "    W[i,i] = 1-2*eta\n",
    "    W[i,(i+1)%agent_num] = eta\n",
    "    W[i,(i-1)%agent_num] = eta\n",
    "print(W)\n",
    "\n"
   ]
  },
  {
   "cell_type": "code",
   "execution_count": 9,
   "metadata": {},
   "outputs": [
    {
     "name": "stderr",
     "output_type": "stream",
     "text": [
      "100%|███████████████████████████████████████████████████████████████████████████████| 1000/1000 [06:07<00:00,  2.72it/s]\n"
     ]
    }
   ],
   "source": [
    "agent_list = []\n",
    "for i in range(agent_num):\n",
    "    agent_list.append(MO_MARL(rewards, s, a, rho, gamma, n, prob_transition))\n",
    "# for k in range(5):\n",
    "old_grad = np.zeros((agent_num, reward_num))\n",
    "grad = np.zeros((agent_num, reward_num))\n",
    "y = np.zeros((agent_num, reward_num))\n",
    "all_theta = np.zeros((agent_num, n*s*a))\n",
    "N = 1000\n",
    "for k in tqdm(range(N)):\n",
    "    \n",
    "    for i in range(agent_num):\n",
    "        grad[i] = agent_list[i].calculate_G(num=i,verbose = False)\n",
    "        all_theta[i] = copy.deepcopy(agent_list[i].theta)\n",
    "\n",
    "    y = W@y+grad-old_grad\n",
    "#     y = W@grad\n",
    "#     y = copy.deepcopy(grad)\n",
    "#     y = y + eta*Laplacian@grad\n",
    "    old_grad = copy.deepcopy(grad)\n",
    "    all_theta = W@all_theta\n",
    "        \n",
    "    for i in range(agent_num):\n",
    "        agent_list[i].theta=all_theta[i]\n",
    "        agent_list[i].NPG_step_given_G(y[i], verbose = False)\n",
    "        "
   ]
  },
  {
   "cell_type": "code",
   "execution_count": 10,
   "metadata": {},
   "outputs": [
    {
     "data": {
      "text/plain": [
       "[<matplotlib.lines.Line2D at 0x7fdfd531f460>]"
      ]
     },
     "execution_count": 10,
     "metadata": {},
     "output_type": "execute_result"
    },
    {
     "data": {
      "image/png": "[encoded data removed]",
      "text/plain": [
       "<Figure size 432x288 with 1 Axes>"
      ]
     },
     "metadata": {
      "needs_background": "light"
     },
     "output_type": "display_data"
    }
   ],
   "source": [
    "# plt.plot(agent_list[0].Q_record)\n",
    "plt.plot(agent_list[0].V_record[0])\n",
    "plt.plot(agent_list[0].V_record[1])\n",
    "plt.plot(agent_list[0].V_record[2])\n",
    "plt.plot(agent_list[0].V_record[3])\n",
    "plt.plot(agent_list[0].V_record[4])"
   ]
  },
  {
   "cell_type": "code",
   "execution_count": 13,
   "metadata": {},
   "outputs": [
    {
     "name": "stdout",
     "output_type": "stream",
     "text": [
      "6.313887881586048\n",
      "6.266685230417442\n",
      "6.30454248226258\n",
      "6.367220519322908\n",
      "6.312252667057926\n"
     ]
    },
    {
     "data": {
      "text/plain": [
       "[<matplotlib.lines.Line2D at 0x7fdfd51a2670>]"
      ]
     },
     "execution_count": 13,
     "metadata": {},
     "output_type": "execute_result"
    },
    {
     "data": {
      "image/png": "[encoded data removed]",
      "text/plain": [
       "<Figure size 432x288 with 1 Axes>"
      ]
     },
     "metadata": {
      "needs_background": "light"
     },
     "output_type": "display_data"
    }
   ],
   "source": [
    "# plt.plot(agent_list[0].gap)\n",
    "\n",
    "for i in range(agent_num):\n",
    "    plt.plot(agent_list[i].gap)\n",
    "    print(agent_list[i].gap[-1])\n",
    "plt.plot(temp.gap)"
   ]
  },
  {
   "cell_type": "code",
   "execution_count": null,
   "metadata": {},
   "outputs": [],
   "source": []
  }
 ],
 "metadata": {
  "kernelspec": {
   "display_name": "Python 3",
   "language": "python",
   "name": "python3"
  },
  "language_info": {
   "codemirror_mode": {
    "name": "ipython",
    "version": 3
   },
   "file_extension": ".py",
   "mimetype": "text/x-python",
   "name": "python",
   "nbconvert_exporter": "python",
   "pygments_lexer": "ipython3",
   "version": "3.8.5"
  }
 },
 "nbformat": 4,
 "nbformat_minor": 4
}
