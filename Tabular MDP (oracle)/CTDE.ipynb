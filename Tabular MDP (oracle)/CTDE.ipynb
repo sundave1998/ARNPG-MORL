{
 "cells": [
  {
   "cell_type": "code",
   "execution_count": 1,
   "metadata": {},
   "outputs": [],
   "source": [
    "import numpy as np\n",
    "import matplotlib.pyplot as plt\n",
    "from tqdm import tqdm\n",
    "import copy\n",
    "\n",
    "from docplex.mp.model import Model\n",
    "# from NPG_CMDP import CMDP_NPG\n",
    "# from ARNPG_CMDP import CMDP_ARNPG\n",
    "\n",
    "\"\"\"Our code customizes the CMDP code from the paper:\n",
    "Natural Policy Gradient Primal-Dual Method for Constrained Markov Decision Processes, Dongsheng Ding et al.\n",
    "\"\"\"\n",
    "\n",
    "\"\"\"Natural Policy Gradient Primal-Dual Method with Softmax Parametrization\n",
    "\"\"\"\n",
    "from MARL import MARL_agent, MO_MARL\n",
    "# Random Seed\n",
    "np.random.seed(10)\n"
   ]
  },
  {
   "cell_type": "code",
   "execution_count": 2,
   "metadata": {},
   "outputs": [],
   "source": [
    "from MARL import MARL_agent\n",
    "n = 2\n",
    "a = 3\n",
    "s = 3\n",
    "gamma = 0.8\n",
    "\n",
    "A = a**n\n",
    "\n",
    "# Randomly generated probability transition matrix P((s,a) -> s') in [0,1]^{|S||A| x |S|}\n",
    "raw_transition = np.random.uniform(0, 1, size=(s * A, s))\n",
    "prob_transition = raw_transition / raw_transition.sum(axis=1, keepdims=1)\n",
    "# Random positive rewards\n",
    "\n",
    "reward = np.random.uniform(0, 1, size=(s * A))\n",
    "rewards = [reward]\n",
    "# Random positive utilities\n",
    "# utility = np.random.uniform(0, 1, size=(s * A))\n",
    "# Utility constraint offset b\n",
    "# Start state distribution\n",
    "rho = np.ones(s) / s\n",
    "# rewards = [reward]\n",
    "temp = MARL_agent(rewards, s, a, rho, gamma, n, prob_transition)\n",
    "temp.tau = 1"
   ]
  },
  {
   "cell_type": "code",
   "execution_count": 3,
   "metadata": {},
   "outputs": [
    {
     "name": "stderr",
     "output_type": "stream",
     "text": [
      "100%|██████████| 1000/1000 [00:01<00:00, 828.31it/s]\n"
     ]
    },
    {
     "data": {
      "text/plain": [
       "[<matplotlib.lines.Line2D at 0x24274771c40>]"
      ]
     },
     "execution_count": 3,
     "metadata": {},
     "output_type": "execute_result"
    },
    {
     "data": {
      "image/png": "[encoded data removed]",
      "text/plain": [
       "<Figure size 432x288 with 1 Axes>"
      ]
     },
     "metadata": {
      "needs_background": "light"
     },
     "output_type": "display_data"
    }
   ],
   "source": [
    "N = 1000\n",
    "for i in tqdm(range(N)):\n",
    "    temp.NPG_entropy_step(verbose = False)\n",
    "#     print(temp.theta)\n",
    "plt.plot(temp.gap)\n",
    "# print(temp.gap)\n",
    "# plt.plot(temp.avg_gap)"
   ]
  },
  {
   "cell_type": "code",
   "execution_count": 4,
   "metadata": {},
   "outputs": [
    {
     "name": "stdout",
     "output_type": "stream",
     "text": [
      "-2.5763322002543814\n"
     ]
    },
    {
     "data": {
      "image/png": "[encoded data removed]",
      "text/plain": [
       "<Figure size 432x288 with 1 Axes>"
      ]
     },
     "metadata": {
      "needs_background": "light"
     },
     "output_type": "display_data"
    }
   ],
   "source": [
    "for i in range(0,len(temp.gap)-1):\n",
    "    temp.gap[i] -= temp.gap[i+1]\n",
    "plt.plot(temp.gap)\n",
    "print(np.min(temp.gap))"
   ]
  },
  {
   "cell_type": "code",
   "execution_count": null,
   "metadata": {},
   "outputs": [
    {
     "name": "stderr",
     "output_type": "stream",
     "text": [
      "100%|██████████| 500/500 [00:03<00:00, 147.55it/s]\n",
      "100%|██████████| 500/500 [00:03<00:00, 148.82it/s]\n",
      "100%|██████████| 500/500 [00:03<00:00, 144.85it/s]\n",
      "100%|██████████| 500/500 [00:03<00:00, 141.89it/s]\n",
      " 32%|███▏      | 158/500 [00:01<00:02, 140.39it/s]"
     ]
    }
   ],
   "source": [
    "N = 500\n",
    "ax1 = plt.subplot(211)\n",
    "# ax1.plot(t, np.sin(2*np.pi*t))\n",
    "\n",
    "ax2 = plt.subplot(212, sharex=ax1)\n",
    "# ax2.plot(t, np.sin(4*np.pi*t))\n",
    "\n",
    "for j in range(5):\n",
    "    temp = MO_MARL(rewards, s, a, rho, gamma, n, prob_transition)\n",
    "    for i in tqdm(range(N)):\n",
    "        temp.Centralized_NPG_step(verbose = False)\n",
    "    ax1.plot(temp.gap)\n",
    "    ax2.plot(temp.avg_gap)\n",
    "    \n",
    "plt.show()\n",
    "    "
   ]
  },
  {
   "cell_type": "code",
   "execution_count": 14,
   "metadata": {},
   "outputs": [
    {
     "name": "stdout",
     "output_type": "stream",
     "text": [
      "[[-2.  1.  0.  0.  1.]\n",
      " [ 1. -2.  1.  0.  0.]\n",
      " [ 0.  1. -2.  1.  0.]\n",
      " [ 0.  0.  1. -2.  1.]\n",
      " [ 1.  0.  0.  1. -2.]]\n",
      "[[0.8 0.1 0.  0.  0.1]\n",
      " [0.1 0.8 0.1 0.  0. ]\n",
      " [0.  0.1 0.8 0.1 0. ]\n",
      " [0.  0.  0.1 0.8 0.1]\n",
      " [0.1 0.  0.  0.1 0.8]]\n"
     ]
    }
   ],
   "source": [
    "agent_num = 5\n",
    "Laplacian = np.zeros((agent_num, agent_num))\n",
    "\n",
    "for i in range(agent_num):\n",
    "    Laplacian[i,i] = -2\n",
    "    Laplacian[i,(i+1)%agent_num] = 1\n",
    "    Laplacian[i,(i-1)%agent_num] = 1\n",
    "print(Laplacian)\n",
    "\n",
    "W = np.zeros((agent_num, agent_num))\n",
    "eta = 0.1\n",
    "for i in range(agent_num):\n",
    "    W[i,i] = 1-2*eta\n",
    "    W[i,(i+1)%agent_num] = eta\n",
    "    W[i,(i-1)%agent_num] = eta\n",
    "print(W)\n",
    "\n"
   ]
  },
  {
   "cell_type": "code",
   "execution_count": 9,
   "metadata": {},
   "outputs": [
    {
     "name": "stderr",
     "output_type": "stream",
     "text": [
      "100%|███████████████████████████████████████████████████████████████████████████████| 1000/1000 [06:07<00:00,  2.72it/s]\n"
     ]
    }
   ],
   "source": [
    "agent_list = []\n",
    "for i in range(agent_num):\n",
    "    agent_list.append(MO_MARL(rewards, s, a, rho, gamma, n, prob_transition))\n",
    "# for k in range(5):\n",
    "old_grad = np.zeros((agent_num, reward_num))\n",
    "grad = np.zeros((agent_num, reward_num))\n",
    "y = np.zeros((agent_num, reward_num))\n",
    "all_theta = np.zeros((agent_num, n*s*a))\n",
    "N = 1000\n",
    "for k in tqdm(range(N)):\n",
    "    \n",
    "    for i in range(agent_num):\n",
    "        grad[i] = agent_list[i].calculate_G(num=i,verbose = False)\n",
    "        all_theta[i] = copy.deepcopy(agent_list[i].theta)\n",
    "\n",
    "    y = W@y+grad-old_grad\n",
    "#     y = W@grad\n",
    "#     y = copy.deepcopy(grad)\n",
    "#     y = y + eta*Laplacian@grad\n",
    "    old_grad = copy.deepcopy(grad)\n",
    "    all_theta = W@all_theta\n",
    "        \n",
    "    for i in range(agent_num):\n",
    "        agent_list[i].theta=all_theta[i]\n",
    "        agent_list[i].NPG_step_given_G(y[i], verbose = False)\n",
    "        "
   ]
  },
  {
   "cell_type": "code",
   "execution_count": 10,
   "metadata": {},
   "outputs": [
    {
     "data": {
      "text/plain": [
       "[<matplotlib.lines.Line2D at 0x7fdfd531f460>]"
      ]
     },
     "execution_count": 10,
     "metadata": {},
     "output_type": "execute_result"
    },
    {
     "data": {
      "image/png": "[encoded data removed]",
      "text/plain": [
       "<Figure size 432x288 with 1 Axes>"
      ]
     },
     "metadata": {
      "needs_background": "light"
     },
     "output_type": "display_data"
    }
   ],
   "source": [
    "# plt.plot(agent_list[0].Q_record)\n",
    "plt.plot(agent_list[0].V_record[0])\n",
    "plt.plot(agent_list[0].V_record[1])\n",
    "plt.plot(agent_list[0].V_record[2])\n",
    "plt.plot(agent_list[0].V_record[3])\n",
    "plt.plot(agent_list[0].V_record[4])"
   ]
  },
  {
   "cell_type": "code",
   "execution_count": 13,
   "metadata": {},
   "outputs": [
    {
     "name": "stdout",
     "output_type": "stream",
     "text": [
      "6.313887881586048\n",
      "6.266685230417442\n",
      "6.30454248226258\n",
      "6.367220519322908\n",
      "6.312252667057926\n"
     ]
    },
    {
     "data": {
      "text/plain": [
       "[<matplotlib.lines.Line2D at 0x7fdfd51a2670>]"
      ]
     },
     "execution_count": 13,
     "metadata": {},
     "output_type": "execute_result"
    },
    {
     "data": {
      "image/png": "[encoded data removed]",
      "text/plain": [
       "<Figure size 432x288 with 1 Axes>"
      ]
     },
     "metadata": {
      "needs_background": "light"
     },
     "output_type": "display_data"
    }
   ],
   "source": [
    "# plt.plot(agent_list[0].gap)\n",
    "\n",
    "for i in range(agent_num):\n",
    "    plt.plot(agent_list[i].gap)\n",
    "    print(agent_list[i].gap[-1])\n",
    "plt.plot(temp.gap)"
   ]
  },
  {
   "cell_type": "code",
   "execution_count": null,
   "metadata": {},
   "outputs": [],
   "source": []
  }
 ],
 "metadata": {
  "kernelspec": {
   "display_name": "Python 3",
   "language": "python",
   "name": "python3"
  },
  "language_info": {
   "codemirror_mode": {
    "name": "ipython",
    "version": 3
   },
   "file_extension": ".py",
   "mimetype": "text/x-python",
   "name": "python",
   "nbconvert_exporter": "python",
   "pygments_lexer": "ipython3",
   "version": "3.8.5"
  }
 },
 "nbformat": 4,
 "nbformat_minor": 4
}
