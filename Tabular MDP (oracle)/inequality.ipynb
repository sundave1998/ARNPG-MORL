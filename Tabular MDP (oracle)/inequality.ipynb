{
 "cells": [
  {
   "cell_type": "code",
   "execution_count": 19,
   "id": "337031d3",
   "metadata": {},
   "outputs": [],
   "source": [
    "import numpy as np\n",
    "N = 10\n",
    "A = np.linspace(1,0,N)"
   ]
  },
  {
   "cell_type": "code",
   "execution_count": 20,
   "id": "2394576e",
   "metadata": {},
   "outputs": [
    {
     "name": "stdout",
     "output_type": "stream",
     "text": [
      "[ 0.5         0.38888889  0.27777778  0.16666667  0.05555556 -0.05555556\n",
      " -0.16666667 -0.27777778 -0.38888889 -0.5       ]\n"
     ]
    }
   ],
   "source": [
    "A -= np.mean(A)\n",
    "\n",
    "print(A)\n"
   ]
  },
  {
   "cell_type": "code",
   "execution_count": 21,
   "id": "bfe07d78",
   "metadata": {},
   "outputs": [
    {
     "name": "stdout",
     "output_type": "stream",
     "text": [
      "[0.076999   0.00924208 0.11448152 0.14380365 0.21147326 0.07548358\n",
      " 0.10793711 0.13835725 0.10501489 0.01720765]\n"
     ]
    }
   ],
   "source": [
    "pi = np.random.rand(N)\n",
    "pi = pi/np.sum(pi)\n",
    "\n",
    "print(pi)"
   ]
  },
  {
   "cell_type": "code",
   "execution_count": 22,
   "id": "a0837225",
   "metadata": {},
   "outputs": [
    {
     "name": "stdout",
     "output_type": "stream",
     "text": [
      "0.019324385560738632 0.007834875197773471\n"
     ]
    }
   ],
   "source": [
    "vector1 = np.ones(N)\n",
    "vector2 = np.ones(N)\n",
    "\n",
    "vector1[:5] = 1.2\n",
    "vector2[:2] = 1.2\n",
    "\n",
    "res1 = np.sum(A*pi*vector1)/np.sum(pi*vector1)\n",
    "res2 = np.sum(A*pi*vector2)/np.sum(pi*vector2)\n",
    "\n",
    "print(res1, res2)\n",
    "\n"
   ]
  },
  {
   "cell_type": "code",
   "execution_count": null,
   "id": "6eaa8518",
   "metadata": {},
   "outputs": [],
   "source": []
  }
 ],
 "metadata": {
  "kernelspec": {
   "display_name": "Python 3 (ipykernel)",
   "language": "python",
   "name": "python3"
  },
  "language_info": {
   "codemirror_mode": {
    "name": "ipython",
    "version": 3
   },
   "file_extension": ".py",
   "mimetype": "text/x-python",
   "name": "python",
   "nbconvert_exporter": "python",
   "pygments_lexer": "ipython3",
   "version": "3.9.7"
  }
 },
 "nbformat": 4,
 "nbformat_minor": 5
}
