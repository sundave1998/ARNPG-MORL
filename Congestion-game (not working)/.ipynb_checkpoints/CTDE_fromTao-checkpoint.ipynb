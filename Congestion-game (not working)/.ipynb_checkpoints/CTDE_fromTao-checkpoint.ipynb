{
 "cells": [
  {
   "cell_type": "code",
   "execution_count": 1,
   "metadata": {},
   "outputs": [],
   "source": [
    "import numpy as np\n",
    "import matplotlib.pyplot as plt\n",
    "from tqdm import tqdm\n",
    "import copy\n",
    "from docplex.mp.model import Model\n",
    "# from NPG_CMDP import CMDP_NPG\n",
    "# from ARNPG_CMDP import CMDP_ARNPG\n",
    "from MARL import MARL_agent, MO_MARL\n",
    "\n",
    "# Random Seed\n",
    "np.random.seed(10)"
   ]
  },
  {
   "cell_type": "code",
   "execution_count": 2,
   "metadata": {},
   "outputs": [],
   "source": [
    "from MARL import MARL_agent\n",
    "n = 3\n",
    "a = 2\n",
    "s = 5\n",
    "gamma = 0.8\n",
    "\n",
    "A = a**n\n",
    "\n",
    "# Randomly generated probability transition matrix P((s,a) -> s') in [0,1]^{|S||A| x |S|}\n",
    "raw_transition = np.random.uniform(0, 1, size=(s * A, s))\n",
    "\n",
    "# raw_transition = np.ones((s * A, s))\n",
    "prob_transition = raw_transition / raw_transition.sum(axis=1, keepdims=1)\n",
    "\n",
    "# Random positive rewards\n",
    "reward = np.random.uniform(0, 1, size=(s * A))\n",
    "rewards = [reward]\n",
    "\n",
    "# Start state distribution\n",
    "rho = np.ones(s) / s"
   ]
  },
  {
   "cell_type": "code",
   "execution_count": 28,
   "metadata": {},
   "outputs": [
    {
     "name": "stderr",
     "output_type": "stream",
     "text": [
      "100%|██████████| 1000/1000 [00:01<00:00, 574.91it/s]\n"
     ]
    },
    {
     "name": "stdout",
     "output_type": "stream",
     "text": [
      "[array([ 2.91433544e-16, -3.12250226e-17,  1.90819582e-15,  1.25593980e-15,\n",
      "       -1.30798150e-15, -3.33066907e-16,  1.33920652e-15,  2.24473218e-15,\n",
      "       -6.90419943e-16, -2.16493490e-15]), array([-1.17961196e-16,  3.43475248e-16,  1.94289029e-15,  1.22818422e-15,\n",
      "       -3.88578059e-16, -1.27675648e-15,  1.74339709e-15,  2.00534034e-15,\n",
      "       -9.92261828e-16, -1.80411242e-15]), array([-7.11236625e-16,  1.11542720e-15,  1.12410081e-15,  2.04697370e-15,\n",
      "       -7.89299182e-16, -8.04911693e-16,  1.70002901e-15,  2.01574868e-15,\n",
      "       -1.47104551e-15, -1.30451205e-15])]\n",
      "(30,)\n"
     ]
    },
    {
     "data": {
      "image/png": "[encoded data removed]",
      "text/plain": [
       "<Figure size 432x288 with 1 Axes>"
      ]
     },
     "metadata": {
      "needs_background": "light"
     },
     "output_type": "display_data"
    }
   ],
   "source": [
    "temp = MARL_agent(rewards, s, a, rho, gamma, n, prob_transition, tau=0.1)\n",
    "temp.tau = 1\n",
    "temp.step = 0.1\n",
    "temp.theta = np.zeros(shape=n* s* a)\n",
    "prob_record = []\n",
    "\n",
    "N = 1000\n",
    "for i in tqdm(range(N)):\n",
    "#   temp.NPG_entropy_step(verbose=False)\n",
    "    A_tildes, pi, Pi_global, V_tau, A_tau = temp.NPG_entropy_step_change(verbose=False)\n",
    "    prob_record.append(pi)\n",
    "print(A_tildes)\n",
    "print(pi.shape)\n",
    "plt.plot(temp.gap)\n",
    "Q_global_star = np.copy(temp.Q_global[-1])\n",
    "# Q_global: s*A\n",
    "\n",
    "Q_tilde_star = np.copy(temp.Q_tilde[-1])\n",
    "pi_star = np.copy(pi)\n",
    "Pi_global_star = np.copy(Pi_global)"
   ]
  },
  {
   "cell_type": "code",
   "execution_count": 51,
   "metadata": {},
   "outputs": [
    {
     "name": "stderr",
     "output_type": "stream",
     "text": [
      " 18%|█▊        | 54/300 [00:00<00:00, 534.54it/s]"
     ]
    },
    {
     "name": "stdout",
     "output_type": "stream",
     "text": [
      "alpha 0.95\n"
     ]
    },
    {
     "name": "stderr",
     "output_type": "stream",
     "text": [
      "100%|██████████| 300/300 [00:00<00:00, 545.33it/s]"
     ]
    },
    {
     "name": "stdout",
     "output_type": "stream",
     "text": [
      "(30,)\n"
     ]
    },
    {
     "name": "stderr",
     "output_type": "stream",
     "text": [
      "\n"
     ]
    },
    {
     "data": {
      "text/plain": [
       "[<matplotlib.lines.Line2D at 0x2797fa766d0>]"
      ]
     },
     "execution_count": 51,
     "metadata": {},
     "output_type": "execute_result"
    },
    {
     "data": {
      "image/png": "[encoded data removed]",
      "text/plain": [
       "<Figure size 432x288 with 1 Axes>"
      ]
     },
     "metadata": {
      "needs_background": "light"
     },
     "output_type": "display_data"
    }
   ],
   "source": [
    "# N = 1000\n",
    "\n",
    "temp = MARL_agent(rewards, s, a, rho, gamma, n, prob_transition, tau=0.1)\n",
    "temp.tau = 1\n",
    "temp.step = 0.01\n",
    "# temp.theta = np.zeros(shape=n* s* a)\n",
    "temp.theta = np.random.uniform(0,1, size=n* s* a)\n",
    "\n",
    "prob_record = []\n",
    "Pi_global_record = []\n",
    "\n",
    "dif_pi_Q = []\n",
    "dif_bound = []\n",
    "alpha = 1-temp.step*temp.tau/(1-gamma)\n",
    "print(\"alpha\", alpha)\n",
    "# xi_global = np.zeros((N, s, A))\n",
    "N = 300\n",
    "xi_i = np.zeros((N+1, n, s, a))\n",
    "\n",
    "# xi_i[0] = \n",
    "for state in range(s):\n",
    "    for agent in range(n):\n",
    "        for action in range(a):\n",
    "            xi_i[0,agent, state, action] = np.sum(np.exp(Q_tilde_star[agent*(s*a):(agent+1)*(s*a)]/temp.tau))/a #start at even pi distribution\n",
    "for i in tqdm(range(N)):\n",
    "#   temp.NPG_entropy_step(verbose=False)\n",
    "    A_tildes, pi, Pi_global, V_tau, A_tau = temp.NPG_entropy_step_change(verbose=False)\n",
    "    prob_record.append(pi)\n",
    "    Pi_global_record.append(Pi_global)\n",
    "    \n",
    "    dif_pi_Q.append(Cal_diff_pi(pi_star,pi,Q_minus_log_pi_star))\n",
    "    state = 0\n",
    "    sum_temp = 0\n",
    "    for agent in range(n):\n",
    "        sum_temp+=a*np.abs(pi_star[agent*s*a + state*a:agent*s*a + state*a+a] - pi[agent*s*a + state*a:agent*s*a + state*a+a]).max()\n",
    "    dif_bound.append((Q_minus_log_pi_star.max()-Q_minus_log_pi_star.min())*sum_temp)\n",
    "#     for state in range(s):\n",
    "#         for agent in range(n):\n",
    "#             for action in range(a):\n",
    "#                 xi_i[i+1,agent, state, action] = xi_i[i,agent, state, action]**alpha*np.exp((1-alpha)* temp.Q_tilde[i][agent*(s*a)+state*a+action] /temp.tau)\n",
    "#         for global_action in range(A):\n",
    "#             Q_global = (temp.Q_global[i][state*(a**n)+global_action])\n",
    "\n",
    "# print(A_tildes)\n",
    "print(pi.shape)\n",
    "plt.plot(temp.gap)"
   ]
  },
  {
   "cell_type": "code",
   "execution_count": 52,
   "metadata": {},
   "outputs": [
    {
     "data": {
      "text/plain": [
       "(0.0, 0.01)"
      ]
     },
     "execution_count": 52,
     "metadata": {},
     "output_type": "execute_result"
    },
    {
     "data": {
      "image/png": "[encoded data removed]",
      "text/plain": [
       "<Figure size 432x288 with 1 Axes>"
      ]
     },
     "metadata": {
      "needs_background": "light"
     },
     "output_type": "display_data"
    }
   ],
   "source": [
    "# print(dif_pi_Q)\n",
    "\n",
    "\n",
    "plt.plot(dif_pi_Q)\n",
    "plt.plot(dif_bound)\n",
    "plt.ylim(0,0.01)\n",
    "\n"
   ]
  },
  {
   "cell_type": "code",
   "execution_count": 37,
   "metadata": {},
   "outputs": [],
   "source": [
    "def Cal_diff_pi(pi_1, pi_2, vector):\n",
    "    state = 0\n",
    "    dist1 = np.zeros((n,a))\n",
    "    dist2 = np.zeros((n,a))\n",
    "    Q = vector[state,:]\n",
    "    for agent in range(n):\n",
    "        for action in range(a):\n",
    "            dist1[agent,action] = pi_1[agent*s*a + state*a+action]\n",
    "            dist2[agent,action] = pi_2[agent*s*a + state*a+action]\n",
    "        \n",
    "    weighted_sum = 0\n",
    "    for global_action in range(A):\n",
    "        counter = global_action\n",
    "        prob1 = 1\n",
    "        prob2 = 1\n",
    "        for agent in range(n):\n",
    "            local_action = counter%a\n",
    "            counter = int(counter/a)\n",
    "            prob1 *= dist1[agent,local_action]\n",
    "            prob2 *= dist2[agent,local_action]\n",
    "        weighted_sum += (prob1-prob2)*Q[global_action]\n",
    "    return weighted_sum\n",
    "\n"
   ]
  },
  {
   "cell_type": "code",
   "execution_count": 31,
   "metadata": {},
   "outputs": [],
   "source": [
    "Q_minus_log_pi = np.zeros(N)\n",
    "        \n",
    "state = 0\n",
    "global_action = 0\n",
    "\n",
    "# for i in range(N):\n",
    "#     Q_minus_log_pi[i] = temp.Q_global[i][(state*A)+global_action] - temp.tau*np.log(Pi_global_record[i][state,(state*A)+global_action])\n",
    "    \n",
    "    \n",
    "Q_minus_log_pi_star = np.zeros((s, A))\n",
    "\n",
    "for state in range(s):\n",
    "    for global_action in range(A):\n",
    "        Q_minus_log_pi_star[state, global_action] = Q_global_star[(state*A)+global_action] - temp.tau*np.log(Pi_global_star[state,(state*A)+global_action])\n",
    "\n",
    "    "
   ]
  },
  {
   "cell_type": "code",
   "execution_count": 10,
   "metadata": {},
   "outputs": [],
   "source": [
    "# plt.plot(Q_minus_log_pi_star)"
   ]
  },
  {
   "cell_type": "code",
   "execution_count": 16,
   "metadata": {},
   "outputs": [
    {
     "name": "stdout",
     "output_type": "stream",
     "text": [
      "11.213787625501395\n",
      "[12.39929007 12.34866014 12.50152228]\n",
      "33.048273056408455\n"
     ]
    },
    {
     "data": {
      "text/plain": [
       "[<matplotlib.lines.Line2D at 0x28f5ea995e0>]"
      ]
     },
     "execution_count": 16,
     "metadata": {},
     "output_type": "execute_result"
    },
    {
     "data": {
      "image/png": "[encoded data removed]",
      "text/plain": [
       "<Figure size 432x288 with 1 Axes>"
      ]
     },
     "metadata": {
      "needs_background": "light"
     },
     "output_type": "display_data"
    }
   ],
   "source": [
    "print(temp.Q_global[-1][0])\n",
    "# for agent in range(n):\n",
    "#     print(\"agent\", agent)\n",
    "#     print(temp.Q_tilde[-1][agent*s*a])\n",
    "# # print(temp.Q_global[-1][0].shape)\n",
    "print(np.log(xi_i[-2,:,0,0]))\n",
    "\n",
    "xi_global = np.sum(np.log(xi_i[-2,:,0,0]))\n",
    "log_pi = 0\n",
    "for agent in range(n):\n",
    "    log_pi+= np.log(pi[agent*s*a])\n",
    "print(xi_global+2*log_pi)\n",
    "# check monotonicity of tilde{Q}\n",
    "# plt.plot(temp.Q_global)\n",
    "# print(temp.Q_tilde[-1].shape)\n",
    "# plt.plot(temp.Q_tilde-temp.tau*np.log(prob_record))\n",
    "plt.plot(np.log(xi_i[:,0,0,0]))"
   ]
  },
  {
   "cell_type": "code",
   "execution_count": 38,
   "metadata": {},
   "outputs": [
    {
     "name": "stdout",
     "output_type": "stream",
     "text": [
      "local actions: [0 1 1]\n",
      "global action: 6\n",
      "state: 3\n"
     ]
    },
    {
     "data": {
      "text/plain": [
       "[<matplotlib.lines.Line2D at 0x22688536fa0>]"
      ]
     },
     "execution_count": 38,
     "metadata": {},
     "output_type": "execute_result"
    },
    {
     "data": {
      "image/png": "[encoded data removed]",
      "text/plain": [
       "<Figure size 432x288 with 1 Axes>"
      ]
     },
     "metadata": {
      "needs_background": "light"
     },
     "output_type": "display_data"
    }
   ],
   "source": [
    "local_actions = np.random.randint(a,size=n)\n",
    "print(\"local actions:\", local_actions)\n",
    "global_action = local_actions[0]+local_actions[1]*a+local_actions[2]*a*a\n",
    "print(\"global action:\", global_action)\n",
    "state = np.random.randint(s)\n",
    "print(\"state:\", state)\n",
    "sum_Q = []\n",
    "Q_sa = []\n",
    "for i in range(N):\n",
    "    Q_tilde_temp = 0\n",
    "    Q_global_temp = n*(temp.Q_global[i][state*(a**n)+global_action])\n",
    "    for agent in range(n):\n",
    "#         Q_tilde_temp += temp.Q_tilde[i][agent*(s*a)+state*a+local_actions[agent]]-temp.tau*np.log(prob_record[i][agent*(s*a)+state*a+local_actions[agent]])\n",
    "#         Q_global_temp -= temp.tau*np.log(prob_record[i][agent*(s*a)+state*a+local_actions[agent]])\n",
    "        Q_tilde_temp += temp.Q_tilde[i][agent*(s*a)+state*a+local_actions[agent]]\n",
    "    sum_Q.append(Q_tilde_temp)\n",
    "    Q_sa.append(Q_global_temp)\n",
    "plt.plot(sum_Q)    \n",
    "# plt.plot(Q_sa)    \n",
    "# #check monotonicity of V_{tau}\n",
    "# for i in range(0,len(temp.gap)-1):\n",
    "#     temp.gap[i] -= temp.gap[i+1]\n",
    "# plt.plot(temp.gap[0:90])\n",
    "# print(np.max(temp.gap[0:90]))"
   ]
  },
  {
   "cell_type": "code",
   "execution_count": 28,
   "metadata": {},
   "outputs": [],
   "source": [
    "# A_tildes, pi, V_tau, A_tau\n"
   ]
  },
  {
   "cell_type": "code",
   "execution_count": 29,
   "metadata": {},
   "outputs": [
    {
     "name": "stdout",
     "output_type": "stream",
     "text": [
      "12.782225237549572\n",
      "12.782225237549572\n"
     ]
    }
   ],
   "source": [
    "global_Q = 0\n",
    "Q_i = 0\n",
    "index = N-1\n",
    "state = 2\n",
    "for action1 in range(a):\n",
    "    for action2 in range(a):\n",
    "        for action3 in range(a):\n",
    "            global_action = action1+action2*a+action3*a*a\n",
    "            term = temp.Q_global[index][state*(a**n)+global_action]\n",
    "            global_prob = prob_record[index][state*a+action1]*prob_record[index][s*a+state*a+action2]*prob_record[index][2*s*a+state*a+action3]\n",
    "            global_Q+= global_prob*(term - temp.tau*np.log(global_prob))\n",
    "#             global_Q+= global_prob*(A_tau[state*(a**n)+global_action] )\n",
    "for action in range(a):\n",
    "    local_prob = prob_record[index][state*a+action]\n",
    "    term = temp.Q_tilde[index][0*(s*a)+state*a+action]\n",
    "    Q_i+= local_prob*(term - temp.tau*np.log(local_prob))\n",
    "#     Q_i+= local_prob*(A_tildes[0][state*a+action])\n",
    "    \n",
    "print(global_Q)\n",
    "print(Q_i)\n",
    "# print(temp.Q_global[index])\n",
    "# print(temp.Q_tilde[index])\n",
    "# print(prob_record[index])\n",
    "\n"
   ]
  },
  {
   "cell_type": "code",
   "execution_count": 67,
   "metadata": {},
   "outputs": [
    {
     "name": "stdout",
     "output_type": "stream",
     "text": [
      "4.574284635183206\n"
     ]
    }
   ],
   "source": [
    "# approximate optimal value via soft q-iteration\n",
    "temp_opt = MARL_agent(rewards, s, a, rho, gamma, n, prob_transition, tau=0.1)\n",
    "temp.step = 0.1\n",
    "temp.theta = np.zeros(shape=n* s* a)\n",
    "ell_star, A_tildes_opt, pi_opt, V_tau_opt = temp_opt.solver(typ='global')\n",
    "print(ell_star)"
   ]
  },
  {
   "cell_type": "code",
   "execution_count": 25,
   "metadata": {},
   "outputs": [
    {
     "data": {
      "text/plain": [
       "[<matplotlib.lines.Line2D at 0x247a4e3d910>]"
      ]
     },
     "execution_count": 25,
     "metadata": {},
     "output_type": "execute_result"
    },
    {
     "data": {
      "image/png": "[encoded data removed]",
      "text/plain": [
       "<Figure size 432x288 with 1 Axes>"
      ]
     },
     "metadata": {
      "needs_background": "light"
     },
     "output_type": "display_data"
    }
   ],
   "source": [
    "# judge convergence rate via log plot\n",
    "opt_gap = [ell_star - gap for gap in temp.gap]\n",
    "plt.axes(yscale='log')\n",
    "# plt.axes(xscale='log')\n",
    "plt.plot(opt_gap)"
   ]
  },
  {
   "cell_type": "code",
   "execution_count": 28,
   "metadata": {},
   "outputs": [
    {
     "name": "stdout",
     "output_type": "stream",
     "text": [
      "Atildes [array([-8.92475619e-07, -5.00732273e-07,  1.20632826e-06,  1.11887442e-11,\n",
      "       -1.43486799e-13,  6.28522131e-12,  1.81127436e-10,  5.81685214e-10,\n",
      "       -6.26340101e-10, -3.65720184e-07,  7.73524348e-08,  2.60155419e-07,\n",
      "       -1.03564154e-10,  1.53847518e-11,  3.81342893e-11]), array([ 1.78889939e-07, -2.96956932e-06, -2.75598787e-06, -2.95467692e-13,\n",
      "        1.06453595e-11,  3.70278135e-12,  6.48413354e-12, -1.19706242e-09,\n",
      "        3.33064982e-10, -6.88274682e-07, -1.55555671e-07,  1.38194158e-07,\n",
      "       -1.33388281e-10, -1.40880947e-10,  1.33612954e-11]), array([-2.68332589e-06,  1.54095025e-07, -3.78305037e-06, -1.58565003e-12,\n",
      "        4.26576895e-12,  8.60854424e-13, -4.29821845e-10,  4.71480639e-10,\n",
      "       -2.73136344e-10,  1.00110075e-07,  1.61097360e-07, -8.60796319e-08,\n",
      "       -1.88954036e-10,  1.06419409e-12, -3.42655498e-10])]\n",
      "pi [2.52778470e-01 3.95882755e-01 3.51338775e-01 1.22255005e-02\n",
      " 9.87143523e-01 6.30976781e-04 7.52930266e-01 1.52083348e-02\n",
      " 2.31861399e-01 1.86369551e-01 7.85059737e-01 2.85707125e-02\n",
      " 1.37756026e-01 8.18223295e-01 4.40206792e-02 9.39430471e-01\n",
      " 5.27093587e-03 5.52985929e-02 9.30334704e-01 2.31043347e-03\n",
      " 6.73548626e-02 9.04126678e-01 2.47010962e-02 7.11722259e-02\n",
      " 6.43978511e-03 4.52330051e-01 5.41230164e-01 1.07506792e-02\n",
      " 7.63951836e-02 9.12854137e-01 4.81956777e-02 9.47399201e-01\n",
      " 4.40512115e-03 7.28529551e-01 2.70376188e-01 1.09426158e-03\n",
      " 1.44223339e-01 3.97160902e-01 4.58615759e-01 4.13907614e-01\n",
      " 3.64689938e-02 5.49623393e-01 5.52760716e-04 9.96657505e-01\n",
      " 2.78973465e-03]\n",
      "Vtau [5.20241897 5.15527157 5.05693657 5.17621216 5.14763903]\n",
      "Atau [ 1.44161036e-01  1.74991453e-01 -3.31857643e-01 -2.28584103e-03\n",
      "  3.37214023e-03  5.21033315e-01  3.52493318e-01 -1.85236633e-01\n",
      "  4.31068835e-01 -2.58335926e-02 -1.61879082e-02  3.85668340e-02\n",
      "  1.01498697e-01  2.39229225e-01 -3.75413497e-01  2.39855708e-01\n",
      "  1.13460236e-01 -3.26837499e-01  5.96415384e-01 -5.58376328e-02\n",
      " -4.01561278e-01  1.56853011e-01  6.02462262e-01  5.42609610e-01\n",
      " -7.88562417e-02  2.26220110e-01  2.75400018e-01 -1.50569766e-01\n",
      "  3.83652648e-03 -9.67339928e-02  4.80021720e-01 -1.26822023e-01\n",
      "  1.32098508e+00  3.07765417e-01 -2.64921785e-02  6.52727266e-01\n",
      "  3.02607951e-01 -8.79461036e-03  9.53100570e-02  3.53885761e-01\n",
      "  3.14369199e-01  6.65086051e-01  5.20075411e-01  5.12652111e-02\n",
      "  3.34301026e-01  2.61380303e-01 -4.33339474e-02  7.49942306e-01\n",
      "  1.26636814e+00  1.03395885e+00  1.30626289e+00  8.54036747e-01\n",
      "  5.00025168e-01  9.03659128e-01  4.75423498e-04  1.46576428e-01\n",
      "  5.55573782e-02  1.70697342e-01  4.74831927e-01  4.87520598e-01\n",
      " -4.45266755e-01  1.05469747e-02  2.25336103e-01  3.07857691e-02\n",
      "  1.65697242e-01 -1.09765738e-01 -2.17484510e-01  8.74929825e-01\n",
      " -1.21157544e-01  1.46510846e-01  2.25823105e-01 -2.36986597e-01\n",
      " -2.07236243e-02 -3.08568743e-01  6.56254844e-02  1.39871204e-02\n",
      "  8.76113465e-01  2.26518611e-01 -2.22885333e-02  6.93718821e-01\n",
      "  1.90891200e-01  3.19723369e-02 -4.12236851e-01  2.31970367e-02\n",
      "  4.81095166e-02 -2.11656706e-02  1.27213844e-01 -1.46119722e-01\n",
      "  3.81127109e-02  1.55389934e-01  4.42329633e-01  4.88731215e-01\n",
      "  7.72244275e-01 -4.72766261e-01  1.73639735e-01  4.54352354e-01\n",
      " -1.05253414e-01 -4.57122395e-02 -5.05491174e-02  6.78232049e-01\n",
      "  9.86247807e-02  8.78501911e-02  2.56557800e-01 -5.37389119e-02\n",
      " -2.33198492e-01 -1.10162952e-01  2.50703454e-02 -2.58950345e-02\n",
      "  9.99922407e-01  6.83113728e-01  1.48423200e+00  1.11410389e+00\n",
      "  3.56904038e-02  7.56927602e-01  2.59340528e-01 -9.50773221e-02\n",
      "  3.41156867e-01  3.32351333e-01 -6.12261171e-02  3.71506148e-02\n",
      "  3.32953820e-01 -4.84993401e-02 -1.92993050e-01 -3.31385416e-02\n",
      "  5.09236463e-03  1.41618706e-02  6.77693465e-01  8.25168127e-01\n",
      "  8.44299733e-01  6.04482778e-01  7.97908934e-01  1.07342496e+00\n",
      "  3.55149348e-01 -1.71476688e-01  3.71027796e-01]\n",
      "test -1.4494736431045743e-15\n"
     ]
    }
   ],
   "source": [
    "# check middle results\n",
    "print('Atildes', A_tildes)\n",
    "print('pi', pi)\n",
    "print('Vtau', V_tau)\n",
    "print('Atau', A_tau)\n",
    "print('test', np.dot(A_tildes[0], pi[0:s*a]))"
   ]
  },
  {
   "cell_type": "code",
   "execution_count": 10,
   "metadata": {},
   "outputs": [
    {
     "name": "stdout",
     "output_type": "stream",
     "text": [
      "0.00760697948977569\n"
     ]
    }
   ],
   "source": [
    "def cal_Q_tildes(Atildes, Pi, Vtau, tau=0.1):\n",
    "    Q_tildes = np.zeros(n*s*a)\n",
    "    for agent in range(n):\n",
    "        for state in range(s):\n",
    "            Q_tildes[agent*s*a+state*a:agent*s*a+(state+1)*a] = Atildes[agent][state*a:(state+1)*a] \n",
    "            + tau * np.log(Pi[state*a:(state+1)*a]) + Vtau[state]\n",
    "    return Q_tildes\n",
    "            \n",
    "Q_tildes = cal_Q_tildes(A_tildes, pi, V_tau, 0.1)\n",
    "Q_tildes_opt = cal_Q_tildes(A_tildes_opt, pi_opt, V_tau_opt, 0.1)\n",
    "print(max(np.abs(Q_tildes - Q_tildes_opt)))"
   ]
  },
  {
   "cell_type": "code",
   "execution_count": 11,
   "metadata": {},
   "outputs": [
    {
     "name": "stdout",
     "output_type": "stream",
     "text": [
      "2.125484575365988e-05\n"
     ]
    }
   ],
   "source": [
    "def Q_cal(V, func):\n",
    "    Q = np.zeros(s * A)\n",
    "    for i in range(s):\n",
    "        for j in range(A):\n",
    "            Q[i * A + j] = func[i * A + j] + gamma * np.matmul(prob_transition[i * A + j], V)\n",
    "    return Q\n",
    "\n",
    "Q = Q_cal(V_tau, reward)\n",
    "Q_opt = Q_cal(V_tau_opt, reward)\n",
    "print(max(np.abs(Q - Q_opt)))"
   ]
  },
  {
   "cell_type": "code",
   "execution_count": null,
   "metadata": {},
   "outputs": [],
   "source": []
  },
  {
   "cell_type": "code",
   "execution_count": 5,
   "metadata": {},
   "outputs": [
    {
     "name": "stdout",
     "output_type": "stream",
     "text": [
      "[2.32789176 1.42730195 0.         0.17390555 0.35655456 0.38287269\n",
      " 0.20226845 0.22354205]\n",
      "[0.71107069 0.28892931 0.45663285 0.54336715 0.49342085 0.50657915\n",
      " 0.4946818  0.5053182 ]\n"
     ]
    }
   ],
   "source": [
    "prob = temp.theta_to_policy()\n",
    "Pi = temp.get_Pi(prob)\n",
    "mat = np.identity(temp.s * temp.A) - temp.gamma * np.matmul(temp.prob_transition, Pi)\n",
    "P_theta = np.matmul(Pi, temp.prob_transition) # |S|*|S|\n",
    "d_pi = (1 - temp.gamma) * np.dot(np.transpose((np.linalg.inv(np.identity(temp.s) - temp.gamma * P_theta))), temp.rho)\n",
    "\n",
    "print(temp.theta)\n",
    "print(prob)"
   ]
  },
  {
   "cell_type": "code",
   "execution_count": null,
   "metadata": {},
   "outputs": [
    {
     "name": "stderr",
     "output_type": "stream",
     "text": [
      "100%|██████████| 500/500 [00:03<00:00, 147.55it/s]\n",
      "100%|██████████| 500/500 [00:03<00:00, 148.82it/s]\n",
      "100%|██████████| 500/500 [00:03<00:00, 144.85it/s]\n",
      "100%|██████████| 500/500 [00:03<00:00, 141.89it/s]\n",
      " 32%|███▏      | 158/500 [00:01<00:02, 140.39it/s]"
     ]
    }
   ],
   "source": [
    "N = 500\n",
    "ax1 = plt.subplot(211)\n",
    "# ax1.plot(t, np.sin(2*np.pi*t))\n",
    "\n",
    "ax2 = plt.subplot(212, sharex=ax1)\n",
    "# ax2.plot(t, np.sin(4*np.pi*t))\n",
    "\n",
    "for j in range(5):\n",
    "    temp = MO_MARL(rewards, s, a, rho, gamma, n, prob_transition)\n",
    "    for i in tqdm(range(N)):\n",
    "        temp.Centralized_NPG_step(verbose = False)\n",
    "    ax1.plot(temp.gap)\n",
    "    ax2.plot(temp.avg_gap)\n",
    "    \n",
    "plt.show()\n",
    "    "
   ]
  },
  {
   "cell_type": "code",
   "execution_count": 14,
   "metadata": {},
   "outputs": [
    {
     "name": "stdout",
     "output_type": "stream",
     "text": [
      "[[-2.  1.  0.  0.  1.]\n",
      " [ 1. -2.  1.  0.  0.]\n",
      " [ 0.  1. -2.  1.  0.]\n",
      " [ 0.  0.  1. -2.  1.]\n",
      " [ 1.  0.  0.  1. -2.]]\n",
      "[[0.8 0.1 0.  0.  0.1]\n",
      " [0.1 0.8 0.1 0.  0. ]\n",
      " [0.  0.1 0.8 0.1 0. ]\n",
      " [0.  0.  0.1 0.8 0.1]\n",
      " [0.1 0.  0.  0.1 0.8]]\n"
     ]
    }
   ],
   "source": [
    "agent_num = 5\n",
    "Laplacian = np.zeros((agent_num, agent_num))\n",
    "\n",
    "for i in range(agent_num):\n",
    "    Laplacian[i,i] = -2\n",
    "    Laplacian[i,(i+1)%agent_num] = 1\n",
    "    Laplacian[i,(i-1)%agent_num] = 1\n",
    "print(Laplacian)\n",
    "\n",
    "W = np.zeros((agent_num, agent_num))\n",
    "eta = 0.1\n",
    "for i in range(agent_num):\n",
    "    W[i,i] = 1-2*eta\n",
    "    W[i,(i+1)%agent_num] = eta\n",
    "    W[i,(i-1)%agent_num] = eta\n",
    "print(W)\n",
    "\n"
   ]
  },
  {
   "cell_type": "code",
   "execution_count": 9,
   "metadata": {},
   "outputs": [
    {
     "name": "stderr",
     "output_type": "stream",
     "text": [
      "100%|███████████████████████████████████████████████████████████████████████████████| 1000/1000 [06:07<00:00,  2.72it/s]\n"
     ]
    }
   ],
   "source": [
    "agent_list = []\n",
    "for i in range(agent_num):\n",
    "    agent_list.append(MO_MARL(rewards, s, a, rho, gamma, n, prob_transition))\n",
    "# for k in range(5):\n",
    "old_grad = np.zeros((agent_num, reward_num))\n",
    "grad = np.zeros((agent_num, reward_num))\n",
    "y = np.zeros((agent_num, reward_num))\n",
    "all_theta = np.zeros((agent_num, n*s*a))\n",
    "N = 1000\n",
    "for k in tqdm(range(N)):\n",
    "    \n",
    "    for i in range(agent_num):\n",
    "        grad[i] = agent_list[i].calculate_G(num=i,verbose = False)\n",
    "        all_theta[i] = copy.deepcopy(agent_list[i].theta)\n",
    "\n",
    "    y = W@y+grad-old_grad\n",
    "#     y = W@grad\n",
    "#     y = copy.deepcopy(grad)\n",
    "#     y = y + eta*Laplacian@grad\n",
    "    old_grad = copy.deepcopy(grad)\n",
    "    all_theta = W@all_theta\n",
    "        \n",
    "    for i in range(agent_num):\n",
    "        agent_list[i].theta=all_theta[i]\n",
    "        agent_list[i].NPG_step_given_G(y[i], verbose = False)\n",
    "        "
   ]
  },
  {
   "cell_type": "code",
   "execution_count": 10,
   "metadata": {},
   "outputs": [
    {
     "data": {
      "text/plain": [
       "[<matplotlib.lines.Line2D at 0x7fdfd531f460>]"
      ]
     },
     "execution_count": 10,
     "metadata": {},
     "output_type": "execute_result"
    },
    {
     "data": {
      "image/png": "[encoded data removed]",
      "text/plain": [
       "<Figure size 432x288 with 1 Axes>"
      ]
     },
     "metadata": {
      "needs_background": "light"
     },
     "output_type": "display_data"
    }
   ],
   "source": [
    "# plt.plot(agent_list[0].Q_record)\n",
    "plt.plot(agent_list[0].V_record[0])\n",
    "plt.plot(agent_list[0].V_record[1])\n",
    "plt.plot(agent_list[0].V_record[2])\n",
    "plt.plot(agent_list[0].V_record[3])\n",
    "plt.plot(agent_list[0].V_record[4])"
   ]
  },
  {
   "cell_type": "code",
   "execution_count": 13,
   "metadata": {},
   "outputs": [
    {
     "name": "stdout",
     "output_type": "stream",
     "text": [
      "6.313887881586048\n",
      "6.266685230417442\n",
      "6.30454248226258\n",
      "6.367220519322908\n",
      "6.312252667057926\n"
     ]
    },
    {
     "data": {
      "text/plain": [
       "[<matplotlib.lines.Line2D at 0x7fdfd51a2670>]"
      ]
     },
     "execution_count": 13,
     "metadata": {},
     "output_type": "execute_result"
    },
    {
     "data": {
      "image/png": "[encoded data removed]",
      "text/plain": [
       "<Figure size 432x288 with 1 Axes>"
      ]
     },
     "metadata": {
      "needs_background": "light"
     },
     "output_type": "display_data"
    }
   ],
   "source": [
    "# plt.plot(agent_list[0].gap)\n",
    "\n",
    "for i in range(agent_num):\n",
    "    plt.plot(agent_list[i].gap)\n",
    "    print(agent_list[i].gap[-1])\n",
    "plt.plot(temp.gap)"
   ]
  },
  {
   "cell_type": "code",
   "execution_count": null,
   "metadata": {},
   "outputs": [],
   "source": []
  }
 ],
 "metadata": {
  "kernelspec": {
   "display_name": "Python 3 (ipykernel)",
   "language": "python",
   "name": "python3"
  },
  "language_info": {
   "codemirror_mode": {
    "name": "ipython",
    "version": 3
   },
   "file_extension": ".py",
   "mimetype": "text/x-python",
   "name": "python",
   "nbconvert_exporter": "python",
   "pygments_lexer": "ipython3",
   "version": "3.9.13"
  }
 },
 "nbformat": 4,
 "nbformat_minor": 4
}
